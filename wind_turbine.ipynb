{
 "cells": [
  {
   "cell_type": "markdown",
   "id": "a064349b",
   "metadata": {},
   "source": [
    "This notebook explores the use of deep learning models to predict the operating mode of a wind turbine based on the two time series from the sensors used in the turbine's operation  \n",
    "\n",
    "The data are sensor readings and operating modes for 4,000 turbine runs. time_series_1 and\n",
    "time_series_2 are NumPy arrays of shape (4000,5000). Each observation corresponds to 5,000\n",
    "records of the turbine over time by one of the two sensors (time_series_1 measures the pitch\n",
    "angle in each second of operation, and time_series_2 measures the generator torque). y is the\n",
    "operating mode for each of the 4,000 turbine runs (0 if the turbine is healthy, 1 if the generator\n",
    "torque is faulty, 2 if the pitch angle is faulty, and 3 if both are faulty). Note that the dataset is\n",
    "balanced in that each operating mode is represented equally often."
   ]
  },
  {
   "cell_type": "markdown",
   "id": "d0cdf47c",
   "metadata": {
    "id": "d0cdf47c"
   },
   "source": [
    "## Recurrent Neural Network"
   ]
  },
  {
   "cell_type": "code",
   "execution_count": 1,
   "id": "320ff41e",
   "metadata": {
    "ExecuteTime": {
     "end_time": "2022-04-14T12:35:03.971423Z",
     "start_time": "2022-04-14T12:34:55.839504Z"
    },
    "id": "320ff41e"
   },
   "outputs": [],
   "source": [
    "#libraries\n",
    "import numpy as np\n",
    "import pickle\n",
    "import tensorflow as tf\n",
    "import pandas as pd\n",
    "import matplotlib.pyplot as plt\n",
    "from tensorflow.keras.models import Sequential\n",
    "from tensorflow.keras.layers import Flatten, Dense, SimpleRNN, BatchNormalization, LSTM, Conv1D, Embedding, GRU\n",
    "from tensorflow.keras.optimizers import Adam, Nadam\n",
    "from tensorflow.keras.metrics import mean_squared_error\n",
    "from tensorflow.data import Dataset, TFRecordDataset\n",
    "import os\n",
    "from sklearn.model_selection import train_test_split\n",
    "from tensorflow.keras.layers import Dropout\n",
    "from tensorflow.python.ops.numpy_ops import np_config\n",
    "from tensorflow.keras import backend as K\n",
    "from tensorflow.keras.applications.mobilenet import MobileNet, preprocess_input\n",
    "from tensorflow.keras.datasets import cifar10\n",
    "from tensorflow.keras.layers import Conv2D, MaxPooling2D, GlobalAveragePooling2D, UpSampling2D, MaxPool2D"
   ]
  },
  {
   "cell_type": "code",
   "execution_count": 2,
   "id": "3a27e0e2",
   "metadata": {
    "ExecuteTime": {
     "end_time": "2022-04-14T12:35:04.226415Z",
     "start_time": "2022-04-14T12:35:04.144245Z"
    },
    "id": "3a27e0e2"
   },
   "outputs": [],
   "source": [
    "#load data\n",
    "with open('time_series_1.pickle', 'rb') as handle:\n",
    "    time_series_1 = pickle.load(handle)\n",
    "with open('time_series_2.pickle', 'rb') as handle:\n",
    "    time_series_2 = pickle.load(handle)\n",
    "with open('y.pickle', 'rb') as handle:\n",
    "    y = pickle.load(handle)"
   ]
  },
  {
   "cell_type": "code",
   "execution_count": 3,
   "id": "1a189698",
   "metadata": {
    "ExecuteTime": {
     "end_time": "2022-04-14T12:35:04.370851Z",
     "start_time": "2022-04-14T12:35:04.360707Z"
    },
    "colab": {
     "base_uri": "https://localhost:8080/"
    },
    "id": "1a189698",
    "outputId": "8aa0f2d2-dddd-437e-eeda-bac94dd92b60"
   },
   "outputs": [
    {
     "name": "stdout",
     "output_type": "stream",
     "text": [
      "(4000, 5000)\n",
      "(4000, 5000)\n",
      "(4000,)\n"
     ]
    }
   ],
   "source": [
    "#check data\n",
    "print(time_series_1.shape)\n",
    "print(time_series_2.shape)\n",
    "print(y.shape)"
   ]
  },
  {
   "cell_type": "code",
   "execution_count": 4,
   "id": "517f5e1a",
   "metadata": {
    "ExecuteTime": {
     "end_time": "2022-04-14T12:35:04.612025Z",
     "start_time": "2022-04-14T12:35:04.466024Z"
    },
    "colab": {
     "base_uri": "https://localhost:8080/"
    },
    "id": "517f5e1a",
    "outputId": "68131612-5ba2-4006-a57f-6744136361b6"
   },
   "outputs": [
    {
     "data": {
      "text/plain": [
       "(4000, 5000, 2)"
      ]
     },
     "execution_count": 4,
     "metadata": {},
     "output_type": "execute_result"
    }
   ],
   "source": [
    "#combine time_serie_1 and time_series_2 into the shape [batch size, time step, number of features]\n",
    "time_series = np.dstack([time_series_1, time_series_2])\n",
    "time_series.shape"
   ]
  },
  {
   "cell_type": "code",
   "execution_count": 5,
   "id": "OLpns7Dymmet",
   "metadata": {
    "ExecuteTime": {
     "end_time": "2022-04-14T12:35:04.774607Z",
     "start_time": "2022-04-14T12:35:04.754012Z"
    },
    "colab": {
     "base_uri": "https://localhost:8080/"
    },
    "id": "OLpns7Dymmet",
    "outputId": "6b633b0b-d204-48ea-ac40-2ce03a939521"
   },
   "outputs": [
    {
     "data": {
      "text/plain": [
       "(4000, 4)"
      ]
     },
     "execution_count": 5,
     "metadata": {},
     "output_type": "execute_result"
    }
   ],
   "source": [
    "#convert the y label into dummies\n",
    "y_dummies = pd.get_dummies(y)\n",
    "y_dummies = y_dummies.to_numpy()\n",
    "y_dummies.shape"
   ]
  },
  {
   "cell_type": "code",
   "execution_count": 6,
   "id": "55f56663",
   "metadata": {
    "ExecuteTime": {
     "end_time": "2022-04-14T12:35:05.020507Z",
     "start_time": "2022-04-14T12:35:04.902773Z"
    },
    "colab": {
     "base_uri": "https://localhost:8080/"
    },
    "id": "55f56663",
    "outputId": "189a12a4-b330-49db-e184-2ba82a8b9d88"
   },
   "outputs": [
    {
     "name": "stdout",
     "output_type": "stream",
     "text": [
      "(2800, 5000, 2)\n",
      "(2800, 4)\n",
      "(600, 5000, 2)\n",
      "(600, 4)\n",
      "(600, 5000, 2)\n",
      "(600, 4)\n"
     ]
    }
   ],
   "source": [
    "#create training (70%), validation (15%) and test set (15%)\n",
    "X_train, X_other, y_train, y_others = train_test_split(time_series, y_dummies, train_size=0.7, random_state = 123)\n",
    "X_valid, X_test, y_valid, y_test = train_test_split(X_other, y_others, train_size=0.5,random_state = 123 )\n",
    "\n",
    "#check the shape of the data sets\n",
    "print(X_train.shape)\n",
    "print(y_train.shape)\n",
    "print(X_test.shape)\n",
    "print(y_test.shape)\n",
    "print(X_valid.shape)\n",
    "print(y_valid.shape)"
   ]
  },
  {
   "cell_type": "markdown",
   "id": "578e54a2",
   "metadata": {},
   "source": [
    "### first RNN model - GRU model"
   ]
  },
  {
   "cell_type": "code",
   "execution_count": null,
   "id": "ccbffe1d",
   "metadata": {
    "colab": {
     "base_uri": "https://localhost:8080/"
    },
    "id": "ccbffe1d",
    "outputId": "2af9fec0-4718-4e2b-fd44-3bc0d9baf842"
   },
   "outputs": [
    {
     "name": "stdout",
     "output_type": "stream",
     "text": [
      "Model: \"sequential\"\n",
      "_________________________________________________________________\n",
      " Layer (type)                Output Shape              Param #   \n",
      "=================================================================\n",
      " gru (GRU)                   (None, None, 70)          15540     \n",
      "                                                                 \n",
      " gru_1 (GRU)                 (None, 140)               89040     \n",
      "                                                                 \n",
      " dense (Dense)               (None, 4)                 564       \n",
      "                                                                 \n",
      "=================================================================\n",
      "Total params: 105,144\n",
      "Trainable params: 105,144\n",
      "Non-trainable params: 0\n",
      "_________________________________________________________________\n"
     ]
    }
   ],
   "source": [
    "# GRU model with 2 GRU layers \n",
    "GRU_model = Sequential([\n",
    "    GRU(70, return_sequences=True, input_shape=[None, 2]),\n",
    "    GRU(140),\n",
    "    Dense(4, activation = \"softmax\")\n",
    "])\n",
    "GRU_model.summary()\n"
   ]
  },
  {
   "cell_type": "code",
   "execution_count": null,
   "id": "2429619c",
   "metadata": {
    "id": "2429619c"
   },
   "outputs": [],
   "source": [
    "#fit GRU model on our training and validation set\n",
    "def train_and_plot(model, learning_rate = 0.001, epochs = 20):\n",
    "    np.random.seed(312)\n",
    "    tf.random.set_seed(312)\n",
    "\n",
    "    model.compile(loss=\"categorical_crossentropy\",\n",
    "                    optimizer=Adam(learning_rate = learning_rate),\n",
    "                    metrics = ['accuracy'])\n",
    "    early_stopping_cb = tf.keras.callbacks.EarlyStopping(patience = 10, restore_best_weights=True)\n",
    "    log = model.fit(X_train, y_train, epochs=epochs,\n",
    "                    validation_data = (X_valid,y_valid),\n",
    "                    batch_size = 20,\n",
    "                    callbacks = [early_stopping_cb])\n",
    "    \n",
    "    \n",
    "    plt.plot(log.history['loss'],label = \"training loss\",color='darkgreen')\n",
    "    plt.plot(log.history['val_loss'], label = \"validation loss\",color='darkblue')\n",
    "    plt.legend()\n",
    "    ax = plt.gca()\n",
    "    plt.show()\n",
    "\n",
    "    return model"
   ]
  },
  {
   "cell_type": "code",
   "execution_count": null,
   "id": "ST5fp1unVLUt",
   "metadata": {
    "colab": {
     "base_uri": "https://localhost:8080/",
     "height": 997
    },
    "id": "ST5fp1unVLUt",
    "outputId": "9366435a-4770-4019-a9d9-a537715420cb"
   },
   "outputs": [
    {
     "name": "stdout",
     "output_type": "stream",
     "text": [
      "Epoch 1/20\n",
      "140/140 [==============================] - 177s 1s/step - loss: 1.2788 - accuracy: 0.4114 - val_loss: 1.1714 - val_accuracy: 0.5067\n",
      "Epoch 2/20\n",
      "140/140 [==============================] - 174s 1s/step - loss: 1.1333 - accuracy: 0.5086 - val_loss: 1.0546 - val_accuracy: 0.5800\n",
      "Epoch 3/20\n",
      "140/140 [==============================] - 174s 1s/step - loss: 0.9609 - accuracy: 0.5789 - val_loss: 0.7855 - val_accuracy: 0.6833\n",
      "Epoch 4/20\n",
      "140/140 [==============================] - 175s 1s/step - loss: 0.6789 - accuracy: 0.7150 - val_loss: 0.5813 - val_accuracy: 0.7617\n",
      "Epoch 5/20\n",
      "140/140 [==============================] - 175s 1s/step - loss: 0.5623 - accuracy: 0.7746 - val_loss: 0.6104 - val_accuracy: 0.7417\n",
      "Epoch 6/20\n",
      "140/140 [==============================] - 174s 1s/step - loss: 0.4545 - accuracy: 0.8154 - val_loss: 0.5285 - val_accuracy: 0.7300\n",
      "Epoch 7/20\n",
      "140/140 [==============================] - 174s 1s/step - loss: 0.3908 - accuracy: 0.8361 - val_loss: 0.5185 - val_accuracy: 0.8033\n",
      "Epoch 8/20\n",
      "140/140 [==============================] - 174s 1s/step - loss: 0.3650 - accuracy: 0.8543 - val_loss: 0.4428 - val_accuracy: 0.8417\n",
      "Epoch 9/20\n",
      "140/140 [==============================] - 167s 1s/step - loss: 0.3432 - accuracy: 0.8568 - val_loss: 0.4233 - val_accuracy: 0.8183\n",
      "Epoch 10/20\n",
      "140/140 [==============================] - 175s 1s/step - loss: 0.2955 - accuracy: 0.8700 - val_loss: 0.4093 - val_accuracy: 0.8517\n",
      "Epoch 11/20\n",
      "140/140 [==============================] - 175s 1s/step - loss: 0.2710 - accuracy: 0.8825 - val_loss: 0.4113 - val_accuracy: 0.8317\n",
      "Epoch 12/20\n",
      "140/140 [==============================] - 175s 1s/step - loss: 0.2635 - accuracy: 0.8825 - val_loss: 0.3872 - val_accuracy: 0.8567\n",
      "Epoch 13/20\n",
      "140/140 [==============================] - 176s 1s/step - loss: 0.2565 - accuracy: 0.8821 - val_loss: 0.4013 - val_accuracy: 0.8433\n",
      "Epoch 14/20\n",
      "140/140 [==============================] - 168s 1s/step - loss: 0.2415 - accuracy: 0.8982 - val_loss: 0.4297 - val_accuracy: 0.8367\n",
      "Epoch 15/20\n",
      "140/140 [==============================] - 175s 1s/step - loss: 0.2161 - accuracy: 0.9104 - val_loss: 0.3855 - val_accuracy: 0.8417\n",
      "Epoch 16/20\n",
      "140/140 [==============================] - 176s 1s/step - loss: 0.2025 - accuracy: 0.9054 - val_loss: 0.3801 - val_accuracy: 0.8533\n",
      "Epoch 17/20\n",
      "140/140 [==============================] - 175s 1s/step - loss: 0.2067 - accuracy: 0.9096 - val_loss: 0.4001 - val_accuracy: 0.8367\n",
      "Epoch 18/20\n",
      "140/140 [==============================] - 176s 1s/step - loss: 0.1740 - accuracy: 0.9243 - val_loss: 0.4018 - val_accuracy: 0.8300\n",
      "Epoch 19/20\n",
      "140/140 [==============================] - 175s 1s/step - loss: 0.2173 - accuracy: 0.9068 - val_loss: 0.4102 - val_accuracy: 0.8583\n",
      "Epoch 20/20\n",
      "140/140 [==============================] - 176s 1s/step - loss: 0.1806 - accuracy: 0.9225 - val_loss: 0.4325 - val_accuracy: 0.8450\n"
     ]
    },
    {
     "data": {
      "image/png": "[encoded data removed]",
      "text/plain": [
       "<Figure size 432x288 with 1 Axes>"
      ]
     },
     "metadata": {
      "needs_background": "light"
     },
     "output_type": "display_data"
    },
    {
     "data": {
      "text/plain": [
       "<keras.engine.sequential.Sequential at 0x7fa8499db250>"
      ]
     },
     "execution_count": 13,
     "metadata": {},
     "output_type": "execute_result"
    }
   ],
   "source": [
    "train_and_plot(GRU_model)"
   ]
  },
  {
   "cell_type": "code",
   "execution_count": null,
   "id": "ynH8TXZ8Y2XV",
   "metadata": {
    "colab": {
     "base_uri": "https://localhost:8080/"
    },
    "id": "ynH8TXZ8Y2XV",
    "outputId": "da2e7b4b-ab7f-4b9b-9f87-fd99539775a0"
   },
   "outputs": [
    {
     "name": "stdout",
     "output_type": "stream",
     "text": [
      "19/19 [==============================] - 9s 447ms/step - loss: 0.4325 - accuracy: 0.8450\n"
     ]
    },
    {
     "data": {
      "text/plain": [
       "[0.43248289823532104, 0.8450000286102295]"
      ]
     },
     "execution_count": 14,
     "metadata": {},
     "output_type": "execute_result"
    }
   ],
   "source": [
    "#evaluate the GRU model on the test set\n",
    "GRU_valid_accuracy = GRU_model.evaluate(X_valid,y_valid)\n",
    "GRU_valid_accuracy"
   ]
  },
  {
   "cell_type": "code",
   "execution_count": null,
   "id": "kkucREnQVodi",
   "metadata": {
    "colab": {
     "base_uri": "https://localhost:8080/"
    },
    "id": "kkucREnQVodi",
    "outputId": "9b2263ae-483d-442a-a2a6-dcb7a63c9bb0"
   },
   "outputs": [
    {
     "name": "stdout",
     "output_type": "stream",
     "text": [
      "19/19 [==============================] - 8s 437ms/step - loss: 0.4797 - accuracy: 0.8450\n",
      "[0.43248289823532104, 0.8450000286102295]\n"
     ]
    }
   ],
   "source": [
    "#evaluate the GRU model on the test set\n",
    "GRU_test_accuracy = GRU_model.evaluate(X_test,y_test)\n",
    "print(GRU_valid_accuracy)"
   ]
  },
  {
   "cell_type": "markdown",
   "id": "0256d0d7",
   "metadata": {},
   "source": [
    "### second RNN model - convolutional 1D model"
   ]
  },
  {
   "cell_type": "code",
   "execution_count": 100,
   "id": "a3f3d7e2",
   "metadata": {
    "colab": {
     "base_uri": "https://localhost:8080/"
    },
    "id": "a3f3d7e2",
    "outputId": "d08562cd-1efa-4df9-eaec-74b87183d756"
   },
   "outputs": [
    {
     "name": "stdout",
     "output_type": "stream",
     "text": [
      "Model: \"sequential_12\"\n",
      "_________________________________________________________________\n",
      " Layer (type)                Output Shape              Param #   \n",
      "=================================================================\n",
      " conv1d (Conv1D)             (None, None, 20)          180       \n",
      "                                                                 \n",
      " conv1d_1 (Conv1D)           (None, None, 20)          1620      \n",
      "                                                                 \n",
      " conv1d_2 (Conv1D)           (None, None, 20)          1620      \n",
      "                                                                 \n",
      " gru_2 (GRU)                 (None, 128)               57600     \n",
      "                                                                 \n",
      " dense_19 (Dense)            (None, 4)                 516       \n",
      "                                                                 \n",
      "=================================================================\n",
      "Total params: 61,536\n",
      "Trainable params: 61,536\n",
      "Non-trainable params: 0\n",
      "_________________________________________________________________\n"
     ]
    }
   ],
   "source": [
    "# Convolutional model with 3 conv1D layers and 1 GRU layer\n",
    "Conv1D_model = Sequential([\n",
    "    Conv1D(filters=20, kernel_size=4, strides=2, padding=\"valid\", input_shape=[None, 2]),\n",
    "    Conv1D(filters=20, kernel_size=4, strides=2, padding=\"valid\"),\n",
    "    Conv1D(filters=20, kernel_size=4, strides=2, padding=\"valid\"),\n",
    "    GRU(128),\n",
    "    Dense(4, activation = \"softmax\")\n",
    "])\n",
    "Conv1D_model.summary()"
   ]
  },
  {
   "cell_type": "code",
   "execution_count": 101,
   "id": "gj9O8UWw9Q0p",
   "metadata": {
    "id": "gj9O8UWw9Q0p"
   },
   "outputs": [],
   "source": [
    "def train_and_plot(model, learning_rate = 0.001, epochs = 20):\n",
    "    np.random.seed(312)\n",
    "    tf.random.set_seed(312)\n",
    "\n",
    "    model.compile(loss=\"categorical_crossentropy\",\n",
    "                    optimizer=Adam(learning_rate = learning_rate),\n",
    "                    metrics = ['accuracy'])\n",
    "    early_stopping_cb = tf.keras.callbacks.EarlyStopping(patience = 10, restore_best_weights=True)\n",
    "    log = model.fit(X_train, y_train, epochs=epochs,\n",
    "                    validation_data = (X_valid,y_valid),\n",
    "                    batch_size = 32,\n",
    "                    callbacks = [early_stopping_cb])\n",
    "    \n",
    "    \n",
    "    plt.plot(log.history['loss'],label = \"training loss\",color='darkgreen')\n",
    "    plt.plot(log.history['val_loss'], label = \"validation loss\",color='darkblue')\n",
    "    plt.legend()\n",
    "    ax = plt.gca()\n",
    "    plt.show()\n",
    "\n",
    "    return model"
   ]
  },
  {
   "cell_type": "code",
   "execution_count": 102,
   "id": "oFRM_uEq9Zry",
   "metadata": {
    "colab": {
     "base_uri": "https://localhost:8080/",
     "height": 873
    },
    "id": "oFRM_uEq9Zry",
    "outputId": "92df82a3-8a86-4a62-a1ac-fbd137a64479"
   },
   "outputs": [
    {
     "name": "stdout",
     "output_type": "stream",
     "text": [
      "Epoch 1/20\n",
      "88/88 [==============================] - 12s 110ms/step - loss: 1.0417 - accuracy: 0.5593 - val_loss: 0.7411 - val_accuracy: 0.7450\n",
      "Epoch 2/20\n",
      "88/88 [==============================] - 9s 102ms/step - loss: 0.5558 - accuracy: 0.8057 - val_loss: 0.4908 - val_accuracy: 0.8250\n",
      "Epoch 3/20\n",
      "88/88 [==============================] - 9s 101ms/step - loss: 0.3726 - accuracy: 0.8586 - val_loss: 0.3620 - val_accuracy: 0.8483\n",
      "Epoch 4/20\n",
      "88/88 [==============================] - 9s 102ms/step - loss: 0.3038 - accuracy: 0.8743 - val_loss: 0.3392 - val_accuracy: 0.8500\n",
      "Epoch 5/20\n",
      "88/88 [==============================] - 9s 101ms/step - loss: 0.2613 - accuracy: 0.8904 - val_loss: 0.3083 - val_accuracy: 0.8700\n",
      "Epoch 6/20\n",
      "88/88 [==============================] - 9s 101ms/step - loss: 0.2387 - accuracy: 0.8968 - val_loss: 0.3719 - val_accuracy: 0.8050\n",
      "Epoch 7/20\n",
      "88/88 [==============================] - 9s 102ms/step - loss: 0.2256 - accuracy: 0.8971 - val_loss: 0.3071 - val_accuracy: 0.8750\n",
      "Epoch 8/20\n",
      "88/88 [==============================] - 9s 101ms/step - loss: 0.2001 - accuracy: 0.9125 - val_loss: 0.3134 - val_accuracy: 0.8717\n",
      "Epoch 9/20\n",
      "88/88 [==============================] - 9s 102ms/step - loss: 0.1909 - accuracy: 0.9107 - val_loss: 0.3116 - val_accuracy: 0.8650\n",
      "Epoch 10/20\n",
      "88/88 [==============================] - 9s 101ms/step - loss: 0.1795 - accuracy: 0.9161 - val_loss: 0.3513 - val_accuracy: 0.8667\n",
      "Epoch 11/20\n",
      "88/88 [==============================] - 9s 102ms/step - loss: 0.1719 - accuracy: 0.9243 - val_loss: 0.3213 - val_accuracy: 0.8550\n",
      "Epoch 12/20\n",
      "88/88 [==============================] - 9s 101ms/step - loss: 0.1512 - accuracy: 0.9329 - val_loss: 0.3311 - val_accuracy: 0.8717\n",
      "Epoch 13/20\n",
      "88/88 [==============================] - 9s 102ms/step - loss: 0.1600 - accuracy: 0.9282 - val_loss: 0.3971 - val_accuracy: 0.8517\n",
      "Epoch 14/20\n",
      "88/88 [==============================] - 9s 102ms/step - loss: 0.1512 - accuracy: 0.9346 - val_loss: 0.3415 - val_accuracy: 0.8483\n",
      "Epoch 15/20\n",
      "88/88 [==============================] - 9s 101ms/step - loss: 0.1364 - accuracy: 0.9389 - val_loss: 0.3457 - val_accuracy: 0.8567\n",
      "Epoch 16/20\n",
      "88/88 [==============================] - 9s 101ms/step - loss: 0.1172 - accuracy: 0.9521 - val_loss: 0.3727 - val_accuracy: 0.8700\n",
      "Epoch 17/20\n",
      "88/88 [==============================] - 9s 101ms/step - loss: 0.1162 - accuracy: 0.9486 - val_loss: 0.3571 - val_accuracy: 0.8700\n"
     ]
    },
    {
     "data": {
      "image/png": "[encoded data removed]",
      "text/plain": [
       "<Figure size 432x288 with 1 Axes>"
      ]
     },
     "metadata": {
      "needs_background": "light"
     },
     "output_type": "display_data"
    },
    {
     "data": {
      "text/plain": [
       "<keras.engine.sequential.Sequential at 0x7fa742afa350>"
      ]
     },
     "execution_count": 102,
     "metadata": {},
     "output_type": "execute_result"
    }
   ],
   "source": [
    "train_and_plot(Conv1D_model)"
   ]
  },
  {
   "cell_type": "code",
   "execution_count": 107,
   "id": "u-GWwoCwZqHf",
   "metadata": {
    "colab": {
     "base_uri": "https://localhost:8080/"
    },
    "id": "u-GWwoCwZqHf",
    "outputId": "9a5280a4-a40b-4e36-bf17-ee4feca13226"
   },
   "outputs": [
    {
     "name": "stdout",
     "output_type": "stream",
     "text": [
      "19/19 [==============================] - 1s 47ms/step - loss: 0.3071 - accuracy: 0.8750\n"
     ]
    }
   ],
   "source": [
    "#evaluate the 1-D convolutional layer model on the validation set\n",
    "Conv1D_valid_accuracy = Conv1D_model.evaluate(X_valid,y_valid)"
   ]
  },
  {
   "cell_type": "code",
   "execution_count": 108,
   "id": "LnGwrmv71k4E",
   "metadata": {
    "colab": {
     "base_uri": "https://localhost:8080/"
    },
    "id": "LnGwrmv71k4E",
    "outputId": "c930817b-35b6-48c7-be1a-b9842996e7be"
   },
   "outputs": [
    {
     "name": "stdout",
     "output_type": "stream",
     "text": [
      "19/19 [==============================] - 1s 47ms/step - loss: 0.3227 - accuracy: 0.8767\n"
     ]
    }
   ],
   "source": [
    "#evaluate the Conv1D model on the test set\n",
    "Conv1D_test_accuracy = Conv1D_model.evaluate(X_test,y_test)"
   ]
  },
  {
   "cell_type": "markdown",
   "id": "232a38eb",
   "metadata": {},
   "source": [
    "### third RNN model - LSTM model"
   ]
  },
  {
   "cell_type": "code",
   "execution_count": 112,
   "id": "tlSYEAkCRhaW",
   "metadata": {
    "colab": {
     "base_uri": "https://localhost:8080/"
    },
    "id": "tlSYEAkCRhaW",
    "outputId": "e540c807-c6c3-4167-826a-68c2c51d9cc3"
   },
   "outputs": [
    {
     "name": "stdout",
     "output_type": "stream",
     "text": [
      "Model: \"sequential_13\"\n",
      "_________________________________________________________________\n",
      " Layer (type)                Output Shape              Param #   \n",
      "=================================================================\n",
      " lstm (LSTM)                 (None, None, 50)          10600     \n",
      "                                                                 \n",
      " lstm_1 (LSTM)               (None, 50)                20200     \n",
      "                                                                 \n",
      " dense_20 (Dense)            (None, 4)                 204       \n",
      "                                                                 \n",
      "=================================================================\n",
      "Total params: 31,004\n",
      "Trainable params: 31,004\n",
      "Non-trainable params: 0\n",
      "_________________________________________________________________\n"
     ]
    }
   ],
   "source": [
    "#third RNN model\n",
    "#LSTM model with two LSTM layers\n",
    "LSTM_model = Sequential([\n",
    "    LSTM(50, return_sequences=True, input_shape=[None, 2]),\n",
    "    LSTM(50),\n",
    "    Dense(4, activation = \"softmax\")\n",
    "])\n",
    "LSTM_model.summary()"
   ]
  },
  {
   "cell_type": "code",
   "execution_count": 113,
   "id": "DolqlhPlLLlD",
   "metadata": {
    "id": "DolqlhPlLLlD"
   },
   "outputs": [],
   "source": [
    "def train_and_plot(model, learning_rate = 0.001, epochs = 20):\n",
    "    np.random.seed(312)\n",
    "    tf.random.set_seed(312)\n",
    "\n",
    "    model.compile(loss=\"categorical_crossentropy\",\n",
    "                    optimizer=Adam(learning_rate = learning_rate),\n",
    "                    metrics = ['accuracy'])\n",
    "    early_stopping_cb = tf.keras.callbacks.EarlyStopping(patience = 10, restore_best_weights=True)\n",
    "    log = model.fit(X_train, y_train, epochs=epochs,\n",
    "                    validation_data = (X_valid,y_valid),\n",
    "                    batch_size = 20,\n",
    "                    callbacks = [early_stopping_cb])\n",
    "    \n",
    "    \n",
    "    plt.plot(log.history['loss'],label = \"training loss\",color='darkgreen')\n",
    "    plt.plot(log.history['val_loss'], label = \"validation loss\",color='darkblue')\n",
    "    plt.legend()\n",
    "    ax = plt.gca()\n",
    "    plt.show()\n",
    "\n",
    "    return model"
   ]
  },
  {
   "cell_type": "code",
   "execution_count": 138,
   "id": "Wpg-1lK1puq9",
   "metadata": {
    "colab": {
     "base_uri": "https://localhost:8080/",
     "height": 977
    },
    "id": "Wpg-1lK1puq9",
    "outputId": "ece69837-61ed-4b5e-f829-90857c1834ad"
   },
   "outputs": [
    {
     "name": "stdout",
     "output_type": "stream",
     "text": [
      "Epoch 1/20\n",
      "140/140 [==============================] - 149s 1s/step - loss: 0.5084 - accuracy: 0.7882 - val_loss: 0.5438 - val_accuracy: 0.7800\n",
      "Epoch 2/20\n",
      "140/140 [==============================] - 145s 1s/step - loss: 0.4800 - accuracy: 0.8068 - val_loss: 0.4809 - val_accuracy: 0.8117\n",
      "Epoch 3/20\n",
      "140/140 [==============================] - 145s 1s/step - loss: 0.4503 - accuracy: 0.8104 - val_loss: 0.4442 - val_accuracy: 0.8217\n",
      "Epoch 4/20\n",
      "140/140 [==============================] - 144s 1s/step - loss: 0.4273 - accuracy: 0.8221 - val_loss: 0.4466 - val_accuracy: 0.8200\n",
      "Epoch 5/20\n",
      "140/140 [==============================] - 136s 972ms/step - loss: 0.4453 - accuracy: 0.8196 - val_loss: 0.4220 - val_accuracy: 0.8267\n",
      "Epoch 6/20\n",
      "140/140 [==============================] - 145s 1s/step - loss: 0.4108 - accuracy: 0.8293 - val_loss: 0.4963 - val_accuracy: 0.7800\n",
      "Epoch 7/20\n",
      "140/140 [==============================] - 145s 1s/step - loss: 0.4083 - accuracy: 0.8329 - val_loss: 0.4235 - val_accuracy: 0.8500\n",
      "Epoch 8/20\n",
      "140/140 [==============================] - 146s 1s/step - loss: 0.4011 - accuracy: 0.8354 - val_loss: 0.4224 - val_accuracy: 0.8417\n",
      "Epoch 9/20\n",
      "140/140 [==============================] - 146s 1s/step - loss: 0.4149 - accuracy: 0.8275 - val_loss: 0.4159 - val_accuracy: 0.8317\n",
      "Epoch 10/20\n",
      "140/140 [==============================] - 145s 1s/step - loss: 0.3713 - accuracy: 0.8475 - val_loss: 0.4692 - val_accuracy: 0.8100\n",
      "Epoch 11/20\n",
      "140/140 [==============================] - 145s 1s/step - loss: 0.3931 - accuracy: 0.8336 - val_loss: 0.4172 - val_accuracy: 0.8317\n",
      "Epoch 12/20\n",
      "140/140 [==============================] - 146s 1s/step - loss: 0.3574 - accuracy: 0.8500 - val_loss: 0.4612 - val_accuracy: 0.8317\n",
      "Epoch 13/20\n",
      "140/140 [==============================] - 145s 1s/step - loss: 0.3493 - accuracy: 0.8539 - val_loss: 0.3875 - val_accuracy: 0.8417\n",
      "Epoch 14/20\n",
      "140/140 [==============================] - 146s 1s/step - loss: 0.3260 - accuracy: 0.8654 - val_loss: 0.4461 - val_accuracy: 0.8183\n",
      "Epoch 15/20\n",
      "140/140 [==============================] - 146s 1s/step - loss: 0.3138 - accuracy: 0.8689 - val_loss: 0.4016 - val_accuracy: 0.8267\n",
      "Epoch 16/20\n",
      "140/140 [==============================] - 146s 1s/step - loss: 0.3581 - accuracy: 0.8514 - val_loss: 0.4139 - val_accuracy: 0.8500\n",
      "Epoch 17/20\n",
      "140/140 [==============================] - 145s 1s/step - loss: 0.3258 - accuracy: 0.8639 - val_loss: 0.3901 - val_accuracy: 0.8583\n",
      "Epoch 18/20\n",
      "140/140 [==============================] - 145s 1s/step - loss: 0.3065 - accuracy: 0.8639 - val_loss: 0.3716 - val_accuracy: 0.8517\n",
      "Epoch 19/20\n",
      "140/140 [==============================] - 145s 1s/step - loss: 0.3098 - accuracy: 0.8664 - val_loss: 0.4184 - val_accuracy: 0.8367\n",
      "Epoch 20/20\n",
      "140/140 [==============================] - 145s 1s/step - loss: 0.3226 - accuracy: 0.8586 - val_loss: 0.5385 - val_accuracy: 0.7900\n"
     ]
    },
    {
     "data": {
      "image/png": "[encoded data removed]",
      "text/plain": [
       "<Figure size 432x288 with 1 Axes>"
      ]
     },
     "metadata": {
      "needs_background": "light"
     },
     "output_type": "display_data"
    },
    {
     "data": {
      "text/plain": [
       "<keras.engine.sequential.Sequential at 0x7fa7ceb16850>"
      ]
     },
     "execution_count": 138,
     "metadata": {},
     "output_type": "execute_result"
    }
   ],
   "source": [
    "train_and_plot(LSTM_model)"
   ]
  },
  {
   "cell_type": "code",
   "execution_count": 139,
   "id": "-uc6WmfVaSUW",
   "metadata": {
    "colab": {
     "base_uri": "https://localhost:8080/"
    },
    "id": "-uc6WmfVaSUW",
    "outputId": "0969f7ac-7a9a-4715-e639-d5a166e225c2"
   },
   "outputs": [
    {
     "name": "stdout",
     "output_type": "stream",
     "text": [
      "19/19 [==============================] - 10s 434ms/step - loss: 0.5385 - accuracy: 0.7900\n"
     ]
    }
   ],
   "source": [
    "#evaluate the LSTM_model on the validation set\n",
    "LSTM_valid_accuracy = LSTM_model.evaluate(X_valid,y_valid)"
   ]
  },
  {
   "cell_type": "code",
   "execution_count": 140,
   "id": "FplH8lyjWQfB",
   "metadata": {
    "colab": {
     "base_uri": "https://localhost:8080/"
    },
    "id": "FplH8lyjWQfB",
    "outputId": "2d8fccd6-07c0-48e5-e1ad-fa452c13c138"
   },
   "outputs": [
    {
     "name": "stdout",
     "output_type": "stream",
     "text": [
      "19/19 [==============================] - 8s 396ms/step - loss: 0.5434 - accuracy: 0.7817\n"
     ]
    }
   ],
   "source": [
    "#evaluate the LSTM_model on the test set\n",
    "LSTM_test_accuracy = LSTM_model.evaluate(X_test,y_test)"
   ]
  },
  {
   "cell_type": "markdown",
   "id": "1f783948",
   "metadata": {},
   "source": [
    "### compare the results of the 3 RNN models"
   ]
  },
  {
   "cell_type": "code",
   "execution_count": 141,
   "id": "JqKlpnxcM9Zs",
   "metadata": {
    "colab": {
     "base_uri": "https://localhost:8080/"
    },
    "id": "JqKlpnxcM9Zs",
    "outputId": "b2a126dd-cff1-4e90-a6cb-ef01a5636db9"
   },
   "outputs": [
    {
     "name": "stdout",
     "output_type": "stream",
     "text": [
      "The validation set accuracy of GRU model is 0.845\n",
      "The validation loss in GRU model is 0.432\n",
      "----------------------\n",
      "The validation set accuracy of LSTM model is 0.79\n",
      "The validation loss in LSTM model is 0.539\n",
      "----------------------\n",
      "The validation set accuracy of Conv1D model is 0.875\n",
      "The validation loss in Conv1D model is 0.307\n"
     ]
    }
   ],
   "source": [
    "#compare the results\n",
    "print(\"The validation set accuracy of GRU model is\", round(GRU_valid_accuracy[1], 3))\n",
    "print(\"The validation loss in GRU model is\", round(GRU_valid_accuracy[0], 3))\n",
    "print(\"----------------------\")\n",
    "print(\"The validation set accuracy of LSTM model is\", round(LSTM_valid_accuracy[1], 3))\n",
    "print(\"The validation loss in LSTM model is\", round(LSTM_valid_accuracy[0], 3))\n",
    "print(\"----------------------\")\n",
    "print(\"The validation set accuracy of Conv1D model is\", round(Conv1D_valid_accuracy[1], 3))\n",
    "print(\"The validation loss in Conv1D model is\", round(Conv1D_valid_accuracy[0], 3))"
   ]
  },
  {
   "cell_type": "markdown",
   "id": "Eh_ArqvdLI6-",
   "metadata": {
    "id": "Eh_ArqvdLI6-"
   },
   "source": [
    "Across the 3 RNN models, the model that consists of both convolutional 1D layer and GRU layer has the highest accuracy on the validation set. Moreover, it has a validation loss that is lower than the other two models, which suggests it can fit the validation set best among the 3 models. This suggests that this RNN model has the best performance in predicting the operating mode of wind turbine from time-series data. "
   ]
  },
  {
   "cell_type": "markdown",
   "id": "c37af3e3",
   "metadata": {
    "id": "c37af3e3"
   },
   "source": [
    "## Convolution neural network"
   ]
  },
  {
   "cell_type": "markdown",
   "id": "e6b11aa6",
   "metadata": {
    "id": "e6b11aa6"
   },
   "source": [
    " Before building CNN model, we need to convert the two time series corresponding to one wind turbine run into a single (100,100,1) array (i.e., a gray- scale image)."
   ]
  },
  {
   "cell_type": "code",
   "execution_count": 7,
   "id": "sFPWrYU7PZBZ",
   "metadata": {
    "ExecuteTime": {
     "end_time": "2022-04-14T12:35:16.937687Z",
     "start_time": "2022-04-14T12:35:16.619032Z"
    },
    "id": "sFPWrYU7PZBZ"
   },
   "outputs": [],
   "source": [
    "# input image dimensions\n",
    "num_classes = 4\n",
    "img_rows, img_cols, img_channels = 100, 100, 1 # the array shape that we want to convert our data to\n",
    "\n",
    "# change the type of the current training and testing data\n",
    "X_train_2 = X_train.astype('float32')\n",
    "X_test_2 = X_test.astype('float32')\n",
    "X_valid_2 = X_valid.astype('float32')\n",
    "\n",
    "# convert the 2 time series into a single array \n",
    "if K.image_data_format() == 'channels_first':\n",
    "    X_train_2 = X_train_2.reshape(X_train_2.shape[0], img_channels, img_rows, img_cols)\n",
    "    X_test_2 = X_test_2.reshape(X_test_2.shape[0], img_channels, img_rows, img_cols)\n",
    "    X_valid_2 = X_valid_2.reshape(X_valid_2.shape[0], img_channels, img_rows, img_cols)\n",
    "    input_shape = (img_channels, img_rows, img_cols)\n",
    "else:\n",
    "    X_train_2 = X_train_2.reshape(X_train_2.shape[0], img_rows, img_cols, img_channels)\n",
    "    X_test_2 = X_test_2.reshape(X_test_2.shape[0], img_rows, img_cols, img_channels)\n",
    "    X_valid_2 = X_valid_2.reshape(X_valid_2.shape[0], img_rows, img_cols, img_channels)\n",
    "    input_shape = (img_rows, img_cols, img_channels)"
   ]
  },
  {
   "cell_type": "code",
   "execution_count": 8,
   "id": "-L32nQ12TwNA",
   "metadata": {
    "ExecuteTime": {
     "end_time": "2022-04-14T12:35:17.533846Z",
     "start_time": "2022-04-14T12:35:17.513189Z"
    },
    "colab": {
     "base_uri": "https://localhost:8080/"
    },
    "id": "-L32nQ12TwNA",
    "outputId": "f0f6c135-48a4-40a0-b500-4ee1d97765ad"
   },
   "outputs": [
    {
     "name": "stdout",
     "output_type": "stream",
     "text": [
      "(100, 100, 1)\n",
      "(100, 100, 1)\n",
      "(100, 100, 1)\n"
     ]
    }
   ],
   "source": [
    "#check the shape of the reshaped data\n",
    "print(X_train_2[0].shape)\n",
    "print(X_test_2[0].shape)\n",
    "print(X_valid_2[0].shape)"
   ]
  },
  {
   "cell_type": "code",
   "execution_count": 9,
   "id": "ea88220e",
   "metadata": {
    "ExecuteTime": {
     "end_time": "2022-04-14T12:35:46.582202Z",
     "start_time": "2022-04-14T12:35:46.425874Z"
    }
   },
   "outputs": [
    {
     "data": {
      "image/png": "[encoded data removed]",
      "text/plain": [
       "<Figure size 360x360 with 1 Axes>"
      ]
     },
     "metadata": {
      "needs_background": "light"
     },
     "output_type": "display_data"
    }
   ],
   "source": [
    "# plot the gray-scale image\n",
    "X_train_3  = X_train_2[0]\n",
    "plt.figure(figsize=(5, 5))\n",
    "plt.imshow(X_train_3[:,:,-1].astype(int), cmap=\"gray\")\n",
    "plt.show()"
   ]
  },
  {
   "cell_type": "markdown",
   "id": "2715d870",
   "metadata": {},
   "source": [
    "# First CNN model"
   ]
  },
  {
   "cell_type": "code",
   "execution_count": 44,
   "id": "514prU5Pcyq3",
   "metadata": {
    "colab": {
     "base_uri": "https://localhost:8080/"
    },
    "id": "514prU5Pcyq3",
    "outputId": "79da1e6b-a70c-4032-e851-a57f99965c07"
   },
   "outputs": [
    {
     "name": "stdout",
     "output_type": "stream",
     "text": [
      "Model: \"sequential_2\"\n",
      "_________________________________________________________________\n",
      " Layer (type)                Output Shape              Param #   \n",
      "=================================================================\n",
      " conv2d_3 (Conv2D)           (None, 50, 50, 32)        320       \n",
      "                                                                 \n",
      " conv2d_4 (Conv2D)           (None, 25, 25, 32)        9248      \n",
      "                                                                 \n",
      " dropout_1 (Dropout)         (None, 25, 25, 32)        0         \n",
      "                                                                 \n",
      " conv2d_5 (Conv2D)           (None, 13, 13, 16)        4624      \n",
      "                                                                 \n",
      " max_pooling2d_1 (MaxPooling  (None, 4, 4, 16)         0         \n",
      " 2D)                                                             \n",
      "                                                                 \n",
      " flatten_1 (Flatten)         (None, 256)               0         \n",
      "                                                                 \n",
      " dense_2 (Dense)             (None, 4)                 1028      \n",
      "                                                                 \n",
      "=================================================================\n",
      "Total params: 15,220\n",
      "Trainable params: 15,220\n",
      "Non-trainable params: 0\n",
      "_________________________________________________________________\n"
     ]
    }
   ],
   "source": [
    "#build CNN model: 3 Convolutional layers, 1 dropout layer, 1 max pooling and 1 FCNN layer\n",
    "model_cnn = Sequential([\n",
    "    Conv2D(32, kernel_size=(3, 3),strides=(2,2),padding='same',input_shape=input_shape),\n",
    "    Conv2D(32, kernel_size=(3, 3),strides=(2,2),padding='same'),\n",
    "    Dropout(0.2),\n",
    "    Conv2D(16, kernel_size=(3, 3),strides=(2,2),padding='same',activation='relu'),\n",
    "    MaxPooling2D(pool_size=(3, 3)),\n",
    "    Flatten(),\n",
    "    Dense(num_classes, activation='softmax')])\n",
    "\n",
    "model_cnn.compile(loss='categorical_crossentropy',\n",
    "              optimizer=tf.keras.optimizers.Adam(learning_rate=0.001),\n",
    "              metrics=['accuracy'])\n",
    "model_cnn.summary()"
   ]
  },
  {
   "cell_type": "code",
   "execution_count": 45,
   "id": "EDQDTpNEdoHm",
   "metadata": {
    "id": "EDQDTpNEdoHm"
   },
   "outputs": [],
   "source": [
    "#fit the CNN model on our training and validation data\n",
    "def train_and_plot2(model, learning_rate = 0.001, epochs = 20):\n",
    "    np.random.seed(312)\n",
    "    tf.random.set_seed(312)\n",
    "    log = model.fit(X_train_2, y_train, \n",
    "                    validation_data = (X_valid_2,y_valid),\n",
    "                    epochs=epochs, batch_size = 5)\n",
    "    plt.plot(log.history['loss'],label = \"training loss\",color='darkgreen')\n",
    "    plt.plot(log.history['val_loss'], label = \"validation loss\",color='darkblue')\n",
    "    plt.legend()\n",
    "    ax = plt.gca()\n",
    "    plt.show()\n",
    "    return model"
   ]
  },
  {
   "cell_type": "code",
   "execution_count": 46,
   "id": "jCNzu9uLeAoc",
   "metadata": {
    "colab": {
     "base_uri": "https://localhost:8080/",
     "height": 981
    },
    "id": "jCNzu9uLeAoc",
    "outputId": "e4ed7c88-34ab-49da-be7c-a087a0a6a41f"
   },
   "outputs": [
    {
     "name": "stdout",
     "output_type": "stream",
     "text": [
      "Epoch 1/20\n",
      "560/560 [==============================] - 7s 7ms/step - loss: 3.3472 - accuracy: 0.5000 - val_loss: 0.4134 - val_accuracy: 0.8667\n",
      "Epoch 2/20\n",
      "560/560 [==============================] - 4s 6ms/step - loss: 0.6711 - accuracy: 0.8061 - val_loss: 0.5718 - val_accuracy: 0.8983\n",
      "Epoch 3/20\n",
      "560/560 [==============================] - 4s 6ms/step - loss: 0.4548 - accuracy: 0.8361 - val_loss: 0.3269 - val_accuracy: 0.8267\n",
      "Epoch 4/20\n",
      "560/560 [==============================] - 3s 6ms/step - loss: 0.3502 - accuracy: 0.8654 - val_loss: 0.2605 - val_accuracy: 0.9000\n",
      "Epoch 5/20\n",
      "560/560 [==============================] - 3s 6ms/step - loss: 0.3071 - accuracy: 0.8714 - val_loss: 0.2959 - val_accuracy: 0.8967\n",
      "Epoch 6/20\n",
      "560/560 [==============================] - 3s 6ms/step - loss: 0.2803 - accuracy: 0.8854 - val_loss: 0.2679 - val_accuracy: 0.8667\n",
      "Epoch 7/20\n",
      "560/560 [==============================] - 3s 6ms/step - loss: 0.2824 - accuracy: 0.8800 - val_loss: 0.2987 - val_accuracy: 0.8967\n",
      "Epoch 8/20\n",
      "560/560 [==============================] - 4s 6ms/step - loss: 0.2963 - accuracy: 0.8807 - val_loss: 0.2671 - val_accuracy: 0.8917\n",
      "Epoch 9/20\n",
      "560/560 [==============================] - 3s 6ms/step - loss: 0.2791 - accuracy: 0.8886 - val_loss: 0.2607 - val_accuracy: 0.8900\n",
      "Epoch 10/20\n",
      "560/560 [==============================] - 4s 7ms/step - loss: 0.4072 - accuracy: 0.8514 - val_loss: 0.2577 - val_accuracy: 0.8933\n",
      "Epoch 11/20\n",
      "560/560 [==============================] - 4s 7ms/step - loss: 0.2704 - accuracy: 0.8889 - val_loss: 0.2709 - val_accuracy: 0.8900\n",
      "Epoch 12/20\n",
      "560/560 [==============================] - 4s 6ms/step - loss: 0.2608 - accuracy: 0.8904 - val_loss: 0.2429 - val_accuracy: 0.8983\n",
      "Epoch 13/20\n",
      "560/560 [==============================] - 4s 7ms/step - loss: 0.2540 - accuracy: 0.8843 - val_loss: 0.2278 - val_accuracy: 0.8983\n",
      "Epoch 14/20\n",
      "560/560 [==============================] - 3s 6ms/step - loss: 0.2618 - accuracy: 0.8943 - val_loss: 0.2380 - val_accuracy: 0.9000\n",
      "Epoch 15/20\n",
      "560/560 [==============================] - 3s 6ms/step - loss: 0.2537 - accuracy: 0.8911 - val_loss: 0.2259 - val_accuracy: 0.8917\n",
      "Epoch 16/20\n",
      "560/560 [==============================] - 3s 6ms/step - loss: 0.2742 - accuracy: 0.8818 - val_loss: 0.3012 - val_accuracy: 0.8633\n",
      "Epoch 17/20\n",
      "560/560 [==============================] - 3s 6ms/step - loss: 0.2673 - accuracy: 0.8893 - val_loss: 0.2595 - val_accuracy: 0.8883\n",
      "Epoch 18/20\n",
      "560/560 [==============================] - 3s 6ms/step - loss: 0.2483 - accuracy: 0.8882 - val_loss: 0.2283 - val_accuracy: 0.8967\n",
      "Epoch 19/20\n",
      "560/560 [==============================] - 3s 6ms/step - loss: 0.2534 - accuracy: 0.8893 - val_loss: 0.4003 - val_accuracy: 0.8783\n",
      "Epoch 20/20\n",
      "560/560 [==============================] - 3s 6ms/step - loss: 0.3042 - accuracy: 0.8754 - val_loss: 0.2363 - val_accuracy: 0.8900\n"
     ]
    },
    {
     "data": {
      "image/png": "[encoded data removed]",
      "text/plain": [
       "<Figure size 432x288 with 1 Axes>"
      ]
     },
     "metadata": {
      "needs_background": "light"
     },
     "output_type": "display_data"
    },
    {
     "data": {
      "text/plain": [
       "<keras.engine.sequential.Sequential at 0x7fa7a7411850>"
      ]
     },
     "execution_count": 46,
     "metadata": {},
     "output_type": "execute_result"
    }
   ],
   "source": [
    "train_and_plot2(model_cnn)"
   ]
  },
  {
   "cell_type": "code",
   "execution_count": 94,
   "id": "EQD_WPDTYqbE",
   "metadata": {
    "colab": {
     "base_uri": "https://localhost:8080/"
    },
    "id": "EQD_WPDTYqbE",
    "outputId": "e7bab906-7dde-4c20-863e-bfd059e460ed"
   },
   "outputs": [
    {
     "name": "stdout",
     "output_type": "stream",
     "text": [
      "19/19 [==============================] - 0s 6ms/step - loss: 0.2363 - accuracy: 0.8900\n"
     ]
    }
   ],
   "source": [
    "#evaluate the model on the validation set\n",
    "model_cnn_validation = model_cnn.evaluate(X_valid_2, y_valid)"
   ]
  },
  {
   "cell_type": "code",
   "execution_count": 95,
   "id": "eFmAMccEeDxP",
   "metadata": {
    "colab": {
     "base_uri": "https://localhost:8080/"
    },
    "id": "eFmAMccEeDxP",
    "outputId": "ea4d524e-38fe-4227-9879-450e2ad2ee25"
   },
   "outputs": [
    {
     "name": "stdout",
     "output_type": "stream",
     "text": [
      "19/19 [==============================] - 0s 6ms/step - loss: 0.3092 - accuracy: 0.8983\n"
     ]
    }
   ],
   "source": [
    "#evaluate the model on the validation set\n",
    "model_cnn_test = model_cnn.evaluate(X_test_2, y_test)"
   ]
  },
  {
   "cell_type": "markdown",
   "id": "18513c57",
   "metadata": {
    "id": "18513c57"
   },
   "source": [
    "5. Can you do better by adjusting the CNN? Be creative in your design choices (you might also consider pre-trained CNN architectures) and record your final validation set accuracy."
   ]
  },
  {
   "cell_type": "markdown",
   "id": "f8eea44c",
   "metadata": {},
   "source": [
    "### Second CNN model - adding more convolutional layers"
   ]
  },
  {
   "cell_type": "code",
   "execution_count": 129,
   "id": "IG4sQCu5atRh",
   "metadata": {
    "colab": {
     "base_uri": "https://localhost:8080/"
    },
    "id": "IG4sQCu5atRh",
    "outputId": "f41bc3b5-7b1d-4fe6-86ae-5d07bb7f1cdb"
   },
   "outputs": [
    {
     "name": "stdout",
     "output_type": "stream",
     "text": [
      "Model: \"sequential_14\"\n",
      "_________________________________________________________________\n",
      " Layer (type)                Output Shape              Param #   \n",
      "=================================================================\n",
      " conv2d_399 (Conv2D)         (None, 50, 50, 128)       1280      \n",
      "                                                                 \n",
      " conv2d_400 (Conv2D)         (None, 25, 25, 64)        73792     \n",
      "                                                                 \n",
      " dropout_4 (Dropout)         (None, 25, 25, 64)        0         \n",
      "                                                                 \n",
      " conv2d_401 (Conv2D)         (None, 13, 13, 32)        18464     \n",
      "                                                                 \n",
      " conv2d_402 (Conv2D)         (None, 7, 7, 16)          4624      \n",
      "                                                                 \n",
      " conv2d_403 (Conv2D)         (None, 4, 4, 8)           1160      \n",
      "                                                                 \n",
      " max_pooling2d_20 (MaxPoolin  (None, 1, 1, 8)          0         \n",
      " g2D)                                                            \n",
      "                                                                 \n",
      " flatten_4 (Flatten)         (None, 8)                 0         \n",
      "                                                                 \n",
      " dense_21 (Dense)            (None, 4)                 36        \n",
      "                                                                 \n",
      "=================================================================\n",
      "Total params: 99,356\n",
      "Trainable params: 99,356\n",
      "Non-trainable params: 0\n",
      "_________________________________________________________________\n"
     ]
    }
   ],
   "source": [
    "# CNN model with 5 Convolutional layers, 1 dropout layer, 1 max pooling and 1 FCNN layer\n",
    "model_cnn2 = Sequential([\n",
    "    Conv2D(128, kernel_size=(3, 3),strides=(2,2),padding='same',input_shape=input_shape),\n",
    "    Conv2D(64, kernel_size=(3, 3),strides=(2,2),padding='same'),\n",
    "    Dropout(0.2),\n",
    "    Conv2D(32, kernel_size=(3, 3),strides=(2,2),padding='same',activation='relu'),\n",
    "    Conv2D(16, kernel_size=(3, 3),strides=(2,2),padding='same', activation='relu'),\n",
    "    Conv2D(8, kernel_size=(3, 3),strides=(2,2),padding='same', activation='relu'),\n",
    "    MaxPooling2D(pool_size=(3, 3)),\n",
    "    Flatten(),\n",
    "    Dense(num_classes, activation='softmax')])\n",
    "\n",
    "model_cnn2.compile(loss='categorical_crossentropy',\n",
    "              optimizer=tf.keras.optimizers.Adam(learning_rate=0.001),\n",
    "              metrics=['accuracy'])\n",
    "model_cnn2.summary()"
   ]
  },
  {
   "cell_type": "code",
   "execution_count": 57,
   "id": "yNY61_Owa0zM",
   "metadata": {
    "id": "yNY61_Owa0zM"
   },
   "outputs": [],
   "source": [
    "#fit the CNN model with 5 convolutional layer on our training and validation data\n",
    "def train_and_plot2(model, learning_rate = 0.001, epochs = 20):\n",
    "    np.random.seed(312)\n",
    "    tf.random.set_seed(312)\n",
    "    log = model.fit(X_train_2, y_train,\n",
    "                    validation_data = (X_valid_2,y_valid),\n",
    "                    epochs=epochs, batch_size = 20)\n",
    "    plt.plot(log.history['loss'],label = \"training loss\",color='darkgreen')\n",
    "    plt.plot(log.history['val_loss'], label = \"validation loss\",color='darkblue')\n",
    "    plt.legend()\n",
    "    ax = plt.gca()\n",
    "    plt.show()\n",
    "\n",
    "    return model"
   ]
  },
  {
   "cell_type": "code",
   "execution_count": 58,
   "id": "F6bwTdlvdOmr",
   "metadata": {
    "colab": {
     "base_uri": "https://localhost:8080/",
     "height": 977
    },
    "id": "F6bwTdlvdOmr",
    "outputId": "7c07ac35-b742-443f-ea79-c79591bc2f29"
   },
   "outputs": [
    {
     "name": "stdout",
     "output_type": "stream",
     "text": [
      "Epoch 1/20\n",
      "140/140 [==============================] - 3s 19ms/step - loss: 2.1330 - accuracy: 0.2814 - val_loss: 1.3197 - val_accuracy: 0.3383\n",
      "Epoch 2/20\n",
      "140/140 [==============================] - 2s 17ms/step - loss: 1.2430 - accuracy: 0.4350 - val_loss: 0.9388 - val_accuracy: 0.6467\n",
      "Epoch 3/20\n",
      "140/140 [==============================] - 2s 17ms/step - loss: 0.7363 - accuracy: 0.6975 - val_loss: 0.4999 - val_accuracy: 0.7867\n",
      "Epoch 4/20\n",
      "140/140 [==============================] - 3s 18ms/step - loss: 0.5060 - accuracy: 0.8075 - val_loss: 0.3886 - val_accuracy: 0.8567\n",
      "Epoch 5/20\n",
      "140/140 [==============================] - 3s 19ms/step - loss: 0.4090 - accuracy: 0.8439 - val_loss: 0.3930 - val_accuracy: 0.8817\n",
      "Epoch 6/20\n",
      "140/140 [==============================] - 3s 18ms/step - loss: 0.3550 - accuracy: 0.8629 - val_loss: 0.3329 - val_accuracy: 0.8933\n",
      "Epoch 7/20\n",
      "140/140 [==============================] - 3s 19ms/step - loss: 0.3123 - accuracy: 0.8793 - val_loss: 0.3407 - val_accuracy: 0.8833\n",
      "Epoch 8/20\n",
      "140/140 [==============================] - 3s 18ms/step - loss: 0.3267 - accuracy: 0.8704 - val_loss: 0.3088 - val_accuracy: 0.8900\n",
      "Epoch 9/20\n",
      "140/140 [==============================] - 2s 18ms/step - loss: 0.2814 - accuracy: 0.8839 - val_loss: 0.2883 - val_accuracy: 0.9017\n",
      "Epoch 10/20\n",
      "140/140 [==============================] - 2s 18ms/step - loss: 0.2819 - accuracy: 0.8857 - val_loss: 0.2950 - val_accuracy: 0.8900\n",
      "Epoch 11/20\n",
      "140/140 [==============================] - 2s 18ms/step - loss: 0.2940 - accuracy: 0.8857 - val_loss: 0.2810 - val_accuracy: 0.9000\n",
      "Epoch 12/20\n",
      "140/140 [==============================] - 2s 18ms/step - loss: 0.2702 - accuracy: 0.8836 - val_loss: 0.2791 - val_accuracy: 0.8983\n",
      "Epoch 13/20\n",
      "140/140 [==============================] - 2s 17ms/step - loss: 0.2846 - accuracy: 0.8764 - val_loss: 0.2851 - val_accuracy: 0.8983\n",
      "Epoch 14/20\n",
      "140/140 [==============================] - 2s 17ms/step - loss: 0.2582 - accuracy: 0.8907 - val_loss: 0.2709 - val_accuracy: 0.8900\n",
      "Epoch 15/20\n",
      "140/140 [==============================] - 2s 18ms/step - loss: 0.2527 - accuracy: 0.8911 - val_loss: 0.2908 - val_accuracy: 0.8800\n",
      "Epoch 16/20\n",
      "140/140 [==============================] - 2s 17ms/step - loss: 0.2535 - accuracy: 0.8886 - val_loss: 0.2901 - val_accuracy: 0.9000\n",
      "Epoch 17/20\n",
      "140/140 [==============================] - 2s 17ms/step - loss: 0.2440 - accuracy: 0.8921 - val_loss: 0.2613 - val_accuracy: 0.8950\n",
      "Epoch 18/20\n",
      "140/140 [==============================] - 2s 17ms/step - loss: 0.2368 - accuracy: 0.8957 - val_loss: 0.2892 - val_accuracy: 0.8833\n",
      "Epoch 19/20\n",
      "140/140 [==============================] - 2s 17ms/step - loss: 0.2422 - accuracy: 0.8918 - val_loss: 0.2714 - val_accuracy: 0.8967\n",
      "Epoch 20/20\n",
      "140/140 [==============================] - 3s 18ms/step - loss: 0.2455 - accuracy: 0.8936 - val_loss: 0.2580 - val_accuracy: 0.8983\n"
     ]
    },
    {
     "data": {
      "image/png": "[encoded data removed]",
      "text/plain": [
       "<Figure size 432x288 with 1 Axes>"
      ]
     },
     "metadata": {
      "needs_background": "light"
     },
     "output_type": "display_data"
    },
    {
     "data": {
      "text/plain": [
       "<keras.engine.sequential.Sequential at 0x7fa7d0c0ae50>"
      ]
     },
     "execution_count": 58,
     "metadata": {},
     "output_type": "execute_result"
    }
   ],
   "source": [
    "train_and_plot2(model_cnn2)"
   ]
  },
  {
   "cell_type": "code",
   "execution_count": 96,
   "id": "rgvzAE84dKeh",
   "metadata": {
    "colab": {
     "base_uri": "https://localhost:8080/"
    },
    "id": "rgvzAE84dKeh",
    "outputId": "1096d948-0a10-4606-c6fd-108a15b23524"
   },
   "outputs": [
    {
     "name": "stdout",
     "output_type": "stream",
     "text": [
      "19/19 [==============================] - 0s 13ms/step - loss: 0.2580 - accuracy: 0.8983\n"
     ]
    }
   ],
   "source": [
    "#evaluate the model on the validation set\n",
    "model_cnn2_validation = model_cnn2.evaluate(X_valid_2, y_valid)"
   ]
  },
  {
   "cell_type": "code",
   "execution_count": 97,
   "id": "ieoPsObxekSW",
   "metadata": {
    "colab": {
     "base_uri": "https://localhost:8080/"
    },
    "id": "ieoPsObxekSW",
    "outputId": "d1ec076d-82fc-4727-b287-5e37232c71c8"
   },
   "outputs": [
    {
     "name": "stdout",
     "output_type": "stream",
     "text": [
      "19/19 [==============================] - 0s 13ms/step - loss: 0.3013 - accuracy: 0.8933\n"
     ]
    }
   ],
   "source": [
    "#evaluate the model on the test set\n",
    "model_cnn2_test = model_cnn2.evaluate(X_test_2, y_test)"
   ]
  },
  {
   "cell_type": "markdown",
   "id": "8daf1958",
   "metadata": {},
   "source": [
    "### third CNN model - using pretrained MobileNet architecture"
   ]
  },
  {
   "cell_type": "code",
   "execution_count": 61,
   "id": "oq22IPbIamvx",
   "metadata": {
    "colab": {
     "base_uri": "https://localhost:8080/"
    },
    "id": "oq22IPbIamvx",
    "outputId": "fcc60b7f-8320-4264-a43a-bbb2e7a5b77f"
   },
   "outputs": [
    {
     "name": "stdout",
     "output_type": "stream",
     "text": [
      "(2800, 100, 100, 1) (600, 100, 100, 1) (600, 100, 100, 1)\n"
     ]
    }
   ],
   "source": [
    "# CNN model using pre-trained MobileNet model\n",
    "from tensorflow.keras.applications.mobilenet import MobileNet, preprocess_input\n",
    "from pandas._libs.lib import fast_unique_multiple_list_gen\n",
    "\n",
    "# pre-process the training and test data for MobileNet\n",
    "x_preprocess_train = preprocess_input(X_train_2.copy())\n",
    "x_preprocess_test = preprocess_input(X_test_2.copy())\n",
    "x_preprocess_valid = preprocess_input(X_valid_2.copy())\n",
    "print(x_preprocess_train.shape, x_preprocess_test.shape,x_preprocess_valid.shape )"
   ]
  },
  {
   "cell_type": "code",
   "execution_count": 90,
   "id": "uGkJM4nT_pgt",
   "metadata": {
    "colab": {
     "base_uri": "https://localhost:8080/"
    },
    "id": "uGkJM4nT_pgt",
    "outputId": "628f2a47-2956-4db3-c2f1-1170bd3fc792"
   },
   "outputs": [
    {
     "name": "stdout",
     "output_type": "stream",
     "text": [
      "WARNING:tensorflow:`input_shape` is undefined or non-square, or `rows` is not in [128, 160, 192, 224]. Weights for input shape (224, 224) will be loaded as the default.\n",
      "Model: \"sequential_11\"\n",
      "_________________________________________________________________\n",
      " Layer (type)                Output Shape              Param #   \n",
      "=================================================================\n",
      " conv2d_398 (Conv2D)         (None, 100, 100, 3)       30        \n",
      "                                                                 \n",
      " mobilenet_1.00_224 (Functio  (None, 3, 3, 1024)       3228864   \n",
      " nal)                                                            \n",
      "                                                                 \n",
      " global_average_pooling2d_6   (None, 1024)             0         \n",
      " (GlobalAveragePooling2D)                                        \n",
      "                                                                 \n",
      " dense_17 (Dense)            (None, 64)                65600     \n",
      "                                                                 \n",
      " dense_18 (Dense)            (None, 4)                 260       \n",
      "                                                                 \n",
      "=================================================================\n",
      "Total params: 3,294,754\n",
      "Trainable params: 65,890\n",
      "Non-trainable params: 3,228,864\n",
      "_________________________________________________________________\n"
     ]
    }
   ],
   "source": [
    "mobilenet = MobileNet(weights='imagenet', include_top=False, input_shape = (100,100,3))\n",
    "mobilenet.trainable = False\n",
    "\n",
    "# Un-Freeze the first 60 layers in the base model \n",
    "for layer in mobilenet.layers[:60]:\n",
    "    layer.trainable = True\n",
    "\n",
    "model_mobilenet = Sequential([\n",
    "    Conv2D(3, kernel_size=(3, 3),strides=(1,1),padding='same',input_shape=input_shape),\n",
    "    mobilenet,\n",
    "    GlobalAveragePooling2D(),\n",
    "    Dense(64, activation='relu'),\n",
    "    Dense(num_classes, activation='softmax')])\n",
    "model_mobilenet.compile(loss='categorical_crossentropy',\n",
    "              optimizer=tf.keras.optimizers.Adam(learning_rate=0.0001),\n",
    "              metrics=['accuracy'])\n",
    "model_mobilenet.summary()"
   ]
  },
  {
   "cell_type": "code",
   "execution_count": 91,
   "id": "2U3SnDqVBBw0",
   "metadata": {
    "colab": {
     "base_uri": "https://localhost:8080/",
     "height": 1000
    },
    "id": "2U3SnDqVBBw0",
    "outputId": "8b816dcd-9dd2-4efc-fbf1-ae2e116a4651"
   },
   "outputs": [
    {
     "name": "stdout",
     "output_type": "stream",
     "text": [
      "Epoch 1/30\n",
      "100/100 [==============================] - 7s 54ms/step - loss: 1.2799 - accuracy: 0.4575 - val_loss: 1.7766 - val_accuracy: 0.2567\n",
      "Epoch 2/30\n",
      "100/100 [==============================] - 5s 46ms/step - loss: 0.8023 - accuracy: 0.6946 - val_loss: 1.4706 - val_accuracy: 0.3133\n",
      "Epoch 3/30\n",
      "100/100 [==============================] - 5s 46ms/step - loss: 0.6058 - accuracy: 0.7914 - val_loss: 0.8242 - val_accuracy: 0.6250\n",
      "Epoch 4/30\n",
      "100/100 [==============================] - 5s 46ms/step - loss: 0.4892 - accuracy: 0.8350 - val_loss: 0.5302 - val_accuracy: 0.8167\n",
      "Epoch 5/30\n",
      "100/100 [==============================] - 5s 47ms/step - loss: 0.4157 - accuracy: 0.8611 - val_loss: 0.4571 - val_accuracy: 0.8383\n",
      "Epoch 6/30\n",
      "100/100 [==============================] - 5s 46ms/step - loss: 0.3691 - accuracy: 0.8757 - val_loss: 0.4231 - val_accuracy: 0.8650\n",
      "Epoch 7/30\n",
      "100/100 [==============================] - 5s 46ms/step - loss: 0.3390 - accuracy: 0.8846 - val_loss: 0.3966 - val_accuracy: 0.8583\n",
      "Epoch 8/30\n",
      "100/100 [==============================] - 5s 49ms/step - loss: 0.3161 - accuracy: 0.8871 - val_loss: 0.3841 - val_accuracy: 0.8683\n",
      "Epoch 9/30\n",
      "100/100 [==============================] - 5s 47ms/step - loss: 0.2974 - accuracy: 0.8982 - val_loss: 0.3676 - val_accuracy: 0.8667\n",
      "Epoch 10/30\n",
      "100/100 [==============================] - 5s 46ms/step - loss: 0.2820 - accuracy: 0.8946 - val_loss: 0.3583 - val_accuracy: 0.8633\n",
      "Epoch 11/30\n",
      "100/100 [==============================] - 5s 49ms/step - loss: 0.2666 - accuracy: 0.9032 - val_loss: 0.3589 - val_accuracy: 0.8733\n",
      "Epoch 12/30\n",
      "100/100 [==============================] - 5s 47ms/step - loss: 0.2533 - accuracy: 0.9096 - val_loss: 0.3507 - val_accuracy: 0.8683\n",
      "Epoch 13/30\n",
      "100/100 [==============================] - 5s 46ms/step - loss: 0.2453 - accuracy: 0.9050 - val_loss: 0.3553 - val_accuracy: 0.8533\n",
      "Epoch 14/30\n",
      "100/100 [==============================] - 5s 46ms/step - loss: 0.2314 - accuracy: 0.9118 - val_loss: 0.3514 - val_accuracy: 0.8483\n",
      "Epoch 15/30\n",
      "100/100 [==============================] - 5s 46ms/step - loss: 0.2251 - accuracy: 0.9143 - val_loss: 0.3395 - val_accuracy: 0.8617\n",
      "Epoch 16/30\n",
      "100/100 [==============================] - 5s 46ms/step - loss: 0.2166 - accuracy: 0.9196 - val_loss: 0.3421 - val_accuracy: 0.8600\n",
      "Epoch 17/30\n",
      "100/100 [==============================] - 5s 46ms/step - loss: 0.2098 - accuracy: 0.9211 - val_loss: 0.3388 - val_accuracy: 0.8650\n",
      "Epoch 18/30\n",
      "100/100 [==============================] - 5s 46ms/step - loss: 0.2046 - accuracy: 0.9200 - val_loss: 0.3391 - val_accuracy: 0.8717\n",
      "Epoch 19/30\n",
      "100/100 [==============================] - 5s 46ms/step - loss: 0.1976 - accuracy: 0.9293 - val_loss: 0.3354 - val_accuracy: 0.8617\n",
      "Epoch 20/30\n",
      "100/100 [==============================] - 5s 46ms/step - loss: 0.1935 - accuracy: 0.9250 - val_loss: 0.3304 - val_accuracy: 0.8683\n",
      "Epoch 21/30\n",
      "100/100 [==============================] - 5s 47ms/step - loss: 0.1876 - accuracy: 0.9268 - val_loss: 0.3318 - val_accuracy: 0.8567\n",
      "Epoch 22/30\n",
      "100/100 [==============================] - 5s 47ms/step - loss: 0.1841 - accuracy: 0.9318 - val_loss: 0.3422 - val_accuracy: 0.8483\n",
      "Epoch 23/30\n",
      "100/100 [==============================] - 5s 47ms/step - loss: 0.1714 - accuracy: 0.9379 - val_loss: 0.3313 - val_accuracy: 0.8700\n",
      "Epoch 24/30\n",
      "100/100 [==============================] - 5s 47ms/step - loss: 0.1696 - accuracy: 0.9375 - val_loss: 0.3451 - val_accuracy: 0.8450\n",
      "Epoch 25/30\n",
      "100/100 [==============================] - 5s 50ms/step - loss: 0.1641 - accuracy: 0.9368 - val_loss: 0.3305 - val_accuracy: 0.8650\n",
      "Epoch 26/30\n",
      "100/100 [==============================] - 5s 47ms/step - loss: 0.1603 - accuracy: 0.9386 - val_loss: 0.3344 - val_accuracy: 0.8667\n",
      "Epoch 27/30\n",
      "100/100 [==============================] - 5s 50ms/step - loss: 0.1586 - accuracy: 0.9364 - val_loss: 0.3350 - val_accuracy: 0.8483\n",
      "Epoch 28/30\n",
      "100/100 [==============================] - 5s 48ms/step - loss: 0.1499 - accuracy: 0.9429 - val_loss: 0.3420 - val_accuracy: 0.8533\n",
      "Epoch 29/30\n",
      "100/100 [==============================] - 5s 50ms/step - loss: 0.1459 - accuracy: 0.9464 - val_loss: 0.3412 - val_accuracy: 0.8667\n"
     ]
    },
    {
     "data": {
      "image/png": "[encoded data removed]",
      "text/plain": [
       "<Figure size 432x288 with 1 Axes>"
      ]
     },
     "metadata": {
      "needs_background": "light"
     },
     "output_type": "display_data"
    }
   ],
   "source": [
    "#fit the mobilenet model on our training and validation data\n",
    "log = model_mobilenet.fit(x_preprocess_train, y_train,\n",
    "                    validation_data = (x_preprocess_valid,y_valid),\n",
    "                    batch_size=28,\n",
    "                    epochs=30)\n",
    "\n",
    "plt.plot(log.history['loss'],label = \"training loss\",color='darkgreen')\n",
    "plt.plot(log.history['val_loss'], label = \"validation loss\",color='darkblue')\n",
    "plt.legend()\n",
    "ax = plt.gca()\n",
    "plt.show()"
   ]
  },
  {
   "cell_type": "code",
   "execution_count": 92,
   "id": "48V4Zw84FYPW",
   "metadata": {
    "colab": {
     "base_uri": "https://localhost:8080/"
    },
    "id": "48V4Zw84FYPW",
    "outputId": "5f1c6bdc-9cc0-4e0d-e4bf-c854894ed182"
   },
   "outputs": [
    {
     "name": "stdout",
     "output_type": "stream",
     "text": [
      "19/19 [==============================] - 1s 26ms/step - loss: 0.3412 - accuracy: 0.8667\n"
     ]
    }
   ],
   "source": [
    "#evaluate the model on the validation set\n",
    "model_mobilenet_validation = model_mobilenet.evaluate(x_preprocess_valid, y_valid)"
   ]
  },
  {
   "cell_type": "code",
   "execution_count": 93,
   "id": "TME7g3MMf8Yv",
   "metadata": {
    "colab": {
     "base_uri": "https://localhost:8080/"
    },
    "id": "TME7g3MMf8Yv",
    "outputId": "10506d45-e258-4d8c-837d-d08d6e63d062"
   },
   "outputs": [
    {
     "name": "stdout",
     "output_type": "stream",
     "text": [
      "19/19 [==============================] - 0s 22ms/step - loss: 0.3356 - accuracy: 0.8683\n"
     ]
    }
   ],
   "source": [
    "#evaluate the model on the test set\n",
    "model_mobilenet_test = model_mobilenet.evaluate(x_preprocess_test, y_test)"
   ]
  },
  {
   "cell_type": "markdown",
   "id": "4c854dfc",
   "metadata": {},
   "source": [
    "### forth CNN model - using pretrained InceptionV3 architecture"
   ]
  },
  {
   "cell_type": "code",
   "execution_count": 86,
   "id": "bZba2AE8Xk7l",
   "metadata": {
    "colab": {
     "base_uri": "https://localhost:8080/"
    },
    "id": "bZba2AE8Xk7l",
    "outputId": "c93febb0-52bb-488e-cc76-35b751dcc36a"
   },
   "outputs": [
    {
     "name": "stdout",
     "output_type": "stream",
     "text": [
      "Model: \"sequential_10\"\n",
      "_________________________________________________________________\n",
      " Layer (type)                Output Shape              Param #   \n",
      "=================================================================\n",
      " conv2d_397 (Conv2D)         (None, 100, 100, 3)       30        \n",
      "                                                                 \n",
      " inception_v3 (Functional)   (None, 1, 1, 2048)        21802784  \n",
      "                                                                 \n",
      " global_average_pooling2d_5   (None, 2048)             0         \n",
      " (GlobalAveragePooling2D)                                        \n",
      "                                                                 \n",
      " dense_15 (Dense)            (None, 64)                131136    \n",
      "                                                                 \n",
      " dense_16 (Dense)            (None, 4)                 260       \n",
      "                                                                 \n",
      "=================================================================\n",
      "Total params: 21,934,210\n",
      "Trainable params: 131,426\n",
      "Non-trainable params: 21,802,784\n",
      "_________________________________________________________________\n"
     ]
    }
   ],
   "source": [
    "# CNN model with pretrained InceptionV3 model\n",
    "from tensorflow.keras.applications.inception_v3 import InceptionV3\n",
    "from tensorflow.keras.preprocessing import image\n",
    "from tensorflow.keras.models import Model\n",
    "from tensorflow.keras.layers import Dense, GlobalAveragePooling2D\n",
    "\n",
    "# create the base pre-trained model\n",
    "InceptionV3 = InceptionV3(weights='imagenet', include_top=False, input_shape = (100,100,3))\n",
    "InceptionV3.trainable = False\n",
    "\n",
    "model_InceptionV3 = Sequential([\n",
    "    Conv2D(3, kernel_size=(3, 3),strides=(1,1),padding='same',input_shape=input_shape),\n",
    "    InceptionV3,\n",
    "    GlobalAveragePooling2D(),\n",
    "    Dense(64, activation='relu'),\n",
    "    Dense(num_classes, activation='softmax')])\n",
    "model_InceptionV3.compile(loss='categorical_crossentropy',\n",
    "              optimizer=tf.keras.optimizers.Adam(learning_rate=0.001),\n",
    "              metrics=['accuracy'])\n",
    "model_InceptionV3.summary()"
   ]
  },
  {
   "cell_type": "code",
   "execution_count": 87,
   "id": "ytJhVJTYYccT",
   "metadata": {
    "colab": {
     "base_uri": "https://localhost:8080/",
     "height": 1000
    },
    "id": "ytJhVJTYYccT",
    "outputId": "dcf03b18-0b7a-445c-b36e-4ba26f8150a1"
   },
   "outputs": [
    {
     "name": "stdout",
     "output_type": "stream",
     "text": [
      "Epoch 1/30\n",
      "100/100 [==============================] - 23s 174ms/step - loss: 1.0807 - accuracy: 0.5332 - val_loss: 0.8653 - val_accuracy: 0.6633\n",
      "Epoch 2/30\n",
      "100/100 [==============================] - 16s 156ms/step - loss: 0.7039 - accuracy: 0.7393 - val_loss: 0.6374 - val_accuracy: 0.7633\n",
      "Epoch 3/30\n",
      "100/100 [==============================] - 16s 157ms/step - loss: 0.5779 - accuracy: 0.7854 - val_loss: 0.5295 - val_accuracy: 0.8300\n",
      "Epoch 4/30\n",
      "100/100 [==============================] - 16s 155ms/step - loss: 0.4813 - accuracy: 0.8289 - val_loss: 0.4789 - val_accuracy: 0.8283\n",
      "Epoch 5/30\n",
      "100/100 [==============================] - 16s 156ms/step - loss: 0.4353 - accuracy: 0.8421 - val_loss: 0.4353 - val_accuracy: 0.8200\n",
      "Epoch 6/30\n",
      "100/100 [==============================] - 16s 157ms/step - loss: 0.4090 - accuracy: 0.8479 - val_loss: 0.3801 - val_accuracy: 0.8483\n",
      "Epoch 7/30\n",
      "100/100 [==============================] - 16s 156ms/step - loss: 0.3622 - accuracy: 0.8596 - val_loss: 0.4151 - val_accuracy: 0.8617\n",
      "Epoch 8/30\n",
      "100/100 [==============================] - 16s 156ms/step - loss: 0.3654 - accuracy: 0.8543 - val_loss: 0.3568 - val_accuracy: 0.8500\n",
      "Epoch 9/30\n",
      "100/100 [==============================] - 16s 156ms/step - loss: 0.3296 - accuracy: 0.8736 - val_loss: 0.3425 - val_accuracy: 0.8700\n",
      "Epoch 10/30\n",
      "100/100 [==============================] - 16s 155ms/step - loss: 0.3187 - accuracy: 0.8707 - val_loss: 0.3570 - val_accuracy: 0.8483\n",
      "Epoch 11/30\n",
      "100/100 [==============================] - 16s 155ms/step - loss: 0.3214 - accuracy: 0.8682 - val_loss: 0.3186 - val_accuracy: 0.8867\n",
      "Epoch 12/30\n",
      "100/100 [==============================] - 16s 155ms/step - loss: 0.2953 - accuracy: 0.8857 - val_loss: 0.3529 - val_accuracy: 0.8367\n",
      "Epoch 13/30\n",
      "100/100 [==============================] - 16s 156ms/step - loss: 0.3171 - accuracy: 0.8736 - val_loss: 0.3303 - val_accuracy: 0.8650\n",
      "Epoch 14/30\n",
      "100/100 [==============================] - 16s 160ms/step - loss: 0.2925 - accuracy: 0.8782 - val_loss: 0.3248 - val_accuracy: 0.8600\n",
      "Epoch 15/30\n",
      "100/100 [==============================] - 16s 159ms/step - loss: 0.2858 - accuracy: 0.8811 - val_loss: 0.3337 - val_accuracy: 0.8433\n",
      "Epoch 16/30\n",
      "100/100 [==============================] - 16s 158ms/step - loss: 0.2644 - accuracy: 0.8996 - val_loss: 0.2995 - val_accuracy: 0.8800\n",
      "Epoch 17/30\n",
      "100/100 [==============================] - 16s 156ms/step - loss: 0.2494 - accuracy: 0.8950 - val_loss: 0.3199 - val_accuracy: 0.8500\n",
      "Epoch 18/30\n",
      "100/100 [==============================] - 16s 158ms/step - loss: 0.2627 - accuracy: 0.8871 - val_loss: 0.3188 - val_accuracy: 0.8450\n",
      "Epoch 19/30\n",
      "100/100 [==============================] - 16s 156ms/step - loss: 0.2666 - accuracy: 0.8889 - val_loss: 0.3231 - val_accuracy: 0.8783\n",
      "Epoch 20/30\n",
      "100/100 [==============================] - 16s 155ms/step - loss: 0.2500 - accuracy: 0.8946 - val_loss: 0.3635 - val_accuracy: 0.8617\n",
      "Epoch 21/30\n",
      "100/100 [==============================] - 16s 155ms/step - loss: 0.2648 - accuracy: 0.8875 - val_loss: 0.3715 - val_accuracy: 0.8100\n",
      "Epoch 22/30\n",
      "100/100 [==============================] - 16s 155ms/step - loss: 0.2429 - accuracy: 0.8946 - val_loss: 0.3081 - val_accuracy: 0.8533\n",
      "Epoch 23/30\n",
      "100/100 [==============================] - 16s 155ms/step - loss: 0.2379 - accuracy: 0.8975 - val_loss: 0.3070 - val_accuracy: 0.8650\n",
      "Epoch 24/30\n",
      "100/100 [==============================] - 16s 157ms/step - loss: 0.2373 - accuracy: 0.8971 - val_loss: 0.3119 - val_accuracy: 0.8583\n",
      "Epoch 25/30\n",
      "100/100 [==============================] - 16s 156ms/step - loss: 0.2428 - accuracy: 0.8957 - val_loss: 0.3276 - val_accuracy: 0.8483\n",
      "Epoch 26/30\n",
      "100/100 [==============================] - 16s 159ms/step - loss: 0.2193 - accuracy: 0.9089 - val_loss: 0.3133 - val_accuracy: 0.8733\n",
      "Epoch 27/30\n",
      "100/100 [==============================] - 16s 156ms/step - loss: 0.2197 - accuracy: 0.9089 - val_loss: 0.3113 - val_accuracy: 0.8683\n",
      "Epoch 28/30\n",
      "100/100 [==============================] - 16s 155ms/step - loss: 0.2392 - accuracy: 0.8961 - val_loss: 0.3344 - val_accuracy: 0.8267\n",
      "Epoch 29/30\n",
      "100/100 [==============================] - 16s 156ms/step - loss: 0.2364 - accuracy: 0.8932 - val_loss: 0.2929 - val_accuracy: 0.8683\n",
      "Epoch 30/30\n",
      "100/100 [==============================] - 16s 157ms/step - loss: 0.2174 - accuracy: 0.9118 - val_loss: 0.3423 - val_accuracy: 0.8617\n"
     ]
    },
    {
     "data": {
      "image/png": "[encoded data removed]",
      "text/plain": [
       "<Figure size 432x288 with 1 Axes>"
      ]
     },
     "metadata": {
      "needs_background": "light"
     },
     "output_type": "display_data"
    }
   ],
   "source": [
    "#fit the InceptionV3 model on our training and validation data\n",
    "log = model_InceptionV3.fit(x_preprocess_train, y_train,\n",
    "                      validation_data = (x_preprocess_valid,y_valid),\n",
    "                      batch_size=28,\n",
    "                      epochs=30)\n",
    "\n",
    "plt.plot(log.history['loss'],label = \"training loss\",color='darkgreen')\n",
    "plt.plot(log.history['val_loss'], label = \"validation loss\",color='darkblue')\n",
    "plt.legend()\n",
    "ax = plt.gca()\n",
    "plt.show()"
   ]
  },
  {
   "cell_type": "code",
   "execution_count": 88,
   "id": "cWEgqxpkjynH",
   "metadata": {
    "colab": {
     "base_uri": "https://localhost:8080/"
    },
    "id": "cWEgqxpkjynH",
    "outputId": "a073aacd-a975-44d2-b43d-911408627d2b"
   },
   "outputs": [
    {
     "name": "stdout",
     "output_type": "stream",
     "text": [
      "19/19 [==============================] - 1s 61ms/step - loss: 0.3423 - accuracy: 0.8617\n"
     ]
    }
   ],
   "source": [
    "#evaluate the model on the validation set\n",
    "model_InceptionV3_validation = model_InceptionV3.evaluate(x_preprocess_valid, y_valid)"
   ]
  },
  {
   "cell_type": "code",
   "execution_count": 89,
   "id": "MfiaZ-aFjrKc",
   "metadata": {
    "colab": {
     "base_uri": "https://localhost:8080/"
    },
    "id": "MfiaZ-aFjrKc",
    "outputId": "97504023-1dee-46cd-9acc-325c8176f2fd"
   },
   "outputs": [
    {
     "name": "stdout",
     "output_type": "stream",
     "text": [
      "19/19 [==============================] - 1s 57ms/step - loss: 0.4008 - accuracy: 0.8600\n"
     ]
    }
   ],
   "source": [
    "#evaluate the model on the test set\n",
    "model_InceptionV3_test = model_InceptionV3.evaluate(x_preprocess_test, y_test)"
   ]
  },
  {
   "cell_type": "markdown",
   "id": "8db4096a",
   "metadata": {},
   "source": [
    "### compare the results"
   ]
  },
  {
   "cell_type": "code",
   "execution_count": 111,
   "id": "LmzLmqdsoxLQ",
   "metadata": {
    "colab": {
     "base_uri": "https://localhost:8080/"
    },
    "id": "LmzLmqdsoxLQ",
    "outputId": "0cefa192-993e-4b86-abba-0769b28223b7"
   },
   "outputs": [
    {
     "name": "stdout",
     "output_type": "stream",
     "text": [
      "The validation set accuracy of CNN model with 3 Convolutional layers is: 0.89\n",
      "The validation loss in CNN model with 3 Convolutional layers is: 0.236\n",
      "---------------------\n",
      "The validation set accuracy of CNN model with 4 Convolutional layers is: 0.898\n",
      "The validation loss in CNN model with 4 Convolutional layers is: 0.258\n",
      "---------------------\n",
      "The validation set accuracy of mobilenet model is: 0.867\n",
      "The validation loss in mobilenet model is: 0.341\n",
      "---------------------\n",
      "The validation set accuracy of InceptionV3 model is; 0.862\n",
      "The validation loss in InceptionV3 model is; 0.342\n"
     ]
    }
   ],
   "source": [
    "#comapare all CNN models\n",
    "print(\"The validation set accuracy of CNN model with 3 Convolutional layers is:\", round(model_cnn_validation[1], 3))\n",
    "print(\"The validation loss in CNN model with 3 Convolutional layers is:\", round(model_cnn_validation[0], 3))\n",
    "print(\"---------------------\")\n",
    "print(\"The validation set accuracy of CNN model with 5 Convolutional layers is:\", round(model_cnn2_validation[1], 3))\n",
    "print(\"The validation loss in CNN model with 5 Convolutional layers is:\", round(model_cnn2_validation[0], 3))\n",
    "print(\"---------------------\")\n",
    "print(\"The validation set accuracy of mobilenet model is:\", round(model_mobilenet_validation[1], 3))\n",
    "print(\"The validation loss in mobilenet model is:\", round(model_mobilenet_validation[0], 3))\n",
    "print(\"---------------------\")\n",
    "print(\"The validation set accuracy of InceptionV3 model is;\", round(model_InceptionV3_validation[1], 3))\n",
    "print(\"The validation loss in InceptionV3 model is;\", round(model_InceptionV3_validation[0], 3))"
   ]
  },
  {
   "cell_type": "markdown",
   "id": "qM_Npufpo8wl",
   "metadata": {
    "id": "qM_Npufpo8wl"
   },
   "source": [
    "Overall, the model with 5 convolution layers, 1 dropout layer, 1 max pooling and 1 FCNN layer has the highest accuracy on predicting the validation set. It also has a lower validation loss when compared to the models that used pretrained CNN architecture. Hence, this model has a better performance in predicting the operating mode of a wind turbine from a matrix data. "
   ]
  },
  {
   "cell_type": "markdown",
   "id": "b179e3ca",
   "metadata": {},
   "source": [
    "## Best model"
   ]
  },
  {
   "cell_type": "markdown",
   "id": "e570df9f",
   "metadata": {
    "id": "e570df9f"
   },
   "source": [
    "This section will compare all the models that I have implemented (both CNN and RNN)."
   ]
  },
  {
   "cell_type": "code",
   "execution_count": 118,
   "id": "cmObjXhblt2R",
   "metadata": {
    "colab": {
     "base_uri": "https://localhost:8080/"
    },
    "id": "cmObjXhblt2R",
    "outputId": "cab8d38a-d9db-405d-b0fa-50bda3d1e8ad"
   },
   "outputs": [
    {
     "name": "stdout",
     "output_type": "stream",
     "text": [
      "RNN models: \n",
      " \n",
      "The validation set accuracy of GRU model is 0.845\n",
      "The validation loss in GRU model is 0.432\n",
      "----------------------\n",
      "The validation set accuracy of LSTM model is 0.798\n",
      "The validation loss in LSTM model is 0.506\n",
      "----------------------\n",
      "The validation set accuracy of Conv1D model is 0.875\n",
      "The validation loss in Conv1D model is 0.307\n",
      " \n",
      "CNN models: \n",
      " \n",
      "The validation set accuracy of CNN model with 3 Convolutional layers is: 0.89\n",
      "The validation loss in CNN model with 3 Convolutional layers is: 0.236\n",
      "---------------------\n",
      "The validation set accuracy of CNN model with 5 Convolutional layers is: 0.898\n",
      "The validation loss in CNN model with 5 Convolutional layers is: 0.258\n",
      "---------------------\n",
      "The validation set accuracy of mobilenet model is: 0.867\n",
      "The validation loss in mobilenet model is: 0.341\n",
      "---------------------\n",
      "The validation set accuracy of InceptionV3 model is; 0.862\n",
      "The validation loss in InceptionV3 model is; 0.342\n"
     ]
    }
   ],
   "source": [
    "#compare the results across all models\n",
    "print(\"RNN models: \")\n",
    "print(\" \")\n",
    "print(\"The validation set accuracy of GRU model is\", round(GRU_valid_accuracy[1], 3))\n",
    "print(\"The validation loss in GRU model is\", round(GRU_valid_accuracy[0], 3))\n",
    "print(\"----------------------\")\n",
    "print(\"The validation set accuracy of LSTM model is\", round(LSTM_valid_accuracy[1], 3))\n",
    "print(\"The validation loss in LSTM model is\", round(LSTM_valid_accuracy[0], 3))\n",
    "print(\"----------------------\")\n",
    "print(\"The validation set accuracy of Conv1D model is\", round(Conv1D_valid_accuracy[1], 3))\n",
    "print(\"The validation loss in Conv1D model is\", round(Conv1D_valid_accuracy[0], 3))\n",
    "print(\" \")\n",
    "print(\"CNN models: \")\n",
    "print(\" \")\n",
    "print(\"The validation set accuracy of CNN model with 3 Convolutional layers is:\", round(model_cnn_validation[1], 3))\n",
    "print(\"The validation loss in CNN model with 3 Convolutional layers is:\", round(model_cnn_validation[0], 3))\n",
    "print(\"---------------------\")\n",
    "print(\"The validation set accuracy of CNN model with 5 Convolutional layers is:\", round(model_cnn2_validation[1], 3))\n",
    "print(\"The validation loss in CNN model with 5 Convolutional layers is:\", round(model_cnn2_validation[0], 3))\n",
    "print(\"---------------------\")\n",
    "print(\"The validation set accuracy of mobilenet model is:\", round(model_mobilenet_validation[1], 3))\n",
    "print(\"The validation loss in mobilenet model is:\", round(model_mobilenet_validation[0], 3))\n",
    "print(\"---------------------\")\n",
    "print(\"The validation set accuracy of InceptionV3 model is;\", round(model_InceptionV3_validation[1], 3))\n",
    "print(\"The validation loss in InceptionV3 model is;\", round(model_InceptionV3_validation[0], 3))\n"
   ]
  },
  {
   "cell_type": "markdown",
   "id": "DWQo0WNJIis2",
   "metadata": {
    "id": "DWQo0WNJIis2"
   },
   "source": [
    "Based on the exploration on RNN and CNN, the CNN models with convolutional layers, 1 dropout layer, 1 max pooling and 1 FCNN layer have the highest accuracies and lowest validation losses. This means that these CNN models have the best performance in predicting outcomes accuractely and can fit the validation set best. In particular, the CNN model with 5 convolutional layers (with increased number of kernels in the first layer) has a moderately higher accuracy than the CNN model with 3 convolutional layers, while other layers are kept constant. As discussed in question 2, CNN models can have more accurate prediction on than RNN models by noise reduction in the time-series data during the learning process, and this is proven by the results in this study. Adding more convolutional layers and kernels mean including more filters to sharpen the features of the input data, which in turns exclude more irrelevant features as well as noise during the learning process. Hence, the CNN model with 5 convolutional layers has a more reliable and accurate prediction output. This model is thus chosen as the best model in classifying the operating mode of a wind turbine among all the models."
   ]
  },
  {
   "cell_type": "markdown",
   "id": "87a682a5",
   "metadata": {},
   "source": [
    "# Run the best model"
   ]
  },
  {
   "cell_type": "code",
   "execution_count": 130,
   "id": "TUbe1V5HSoNp",
   "metadata": {
    "colab": {
     "base_uri": "https://localhost:8080/"
    },
    "id": "TUbe1V5HSoNp",
    "outputId": "344bab02-93a2-4625-802a-820d64faff52"
   },
   "outputs": [
    {
     "name": "stdout",
     "output_type": "stream",
     "text": [
      "(3400, 5000, 2)\n",
      "(3400, 4)\n"
     ]
    }
   ],
   "source": [
    "#combine training and validation set to allow the final training set to contain 85% of original data\n",
    "X_train_valid = np.concatenate((X_train, X_valid))\n",
    "y_train_valid = np.concatenate((y_train, y_valid))\n",
    "\n",
    "print(X_train_valid.shape)\n",
    "print(y_train_valid.shape)"
   ]
  },
  {
   "cell_type": "code",
   "execution_count": 131,
   "id": "JthBUnQYTibp",
   "metadata": {
    "colab": {
     "base_uri": "https://localhost:8080/"
    },
    "id": "JthBUnQYTibp",
    "outputId": "5aabcb28-8a5d-49f6-e724-e4211e0fc4e1"
   },
   "outputs": [
    {
     "name": "stdout",
     "output_type": "stream",
     "text": [
      "(100, 100, 1)\n"
     ]
    }
   ],
   "source": [
    "# input image dimensions\n",
    "num_classes = 4\n",
    "img_rows, img_cols, img_channels = 100, 100, 1 # the array shape that we want to convert our data to\n",
    "\n",
    "# change the type of the current training and testing data\n",
    "X_train_valid = X_train_valid.astype('float32')\n",
    "\n",
    "# convert the X_train_valid into a single array \n",
    "if K.image_data_format() == 'channels_first':\n",
    "    X_train_valid = X_train_valid.reshape(X_train_valid.shape[0], img_channels, img_rows, img_cols)\n",
    "    input_shape = (img_channels, img_rows, img_cols)\n",
    "else:\n",
    "    X_train_valid= X_train_valid.reshape(X_train_valid.shape[0], img_rows, img_cols, img_channels)\n",
    "    input_shape = (img_rows, img_cols, img_channels)\n",
    "\n",
    "print(X_train_valid[0].shape)"
   ]
  },
  {
   "cell_type": "code",
   "execution_count": 133,
   "id": "z_CpDbHt9IcT",
   "metadata": {
    "colab": {
     "base_uri": "https://localhost:8080/"
    },
    "id": "z_CpDbHt9IcT",
    "outputId": "42bba9b1-82d1-454f-801b-335557694cba"
   },
   "outputs": [
    {
     "data": {
      "text/plain": [
       "(3400, 100, 100, 1)"
      ]
     },
     "execution_count": 133,
     "metadata": {},
     "output_type": "execute_result"
    }
   ],
   "source": [
    "X_train_valid.shape"
   ]
  },
  {
   "cell_type": "code",
   "execution_count": 134,
   "id": "P3Wd6pbGUOS2",
   "metadata": {
    "id": "P3Wd6pbGUOS2"
   },
   "outputs": [],
   "source": [
    "# run this updated training set on the CNN model with 5 convolutional layers, 1 dropout layer, 1 max pooling and 1 FCNN layer\n",
    "def train_and_plot_final(model, learning_rate = 0.001, epochs = 20):\n",
    "    np.random.seed(312)\n",
    "    tf.random.set_seed(312)\n",
    "    log = model.fit(X_train_valid, y_train_valid,\n",
    "                    epochs=epochs, batch_size = 20)\n",
    "    plt.plot(log.history['loss'],label = \"training loss\",color='darkgreen')\n",
    "    plt.legend()\n",
    "    ax = plt.gca()\n",
    "    plt.show()\n",
    "\n",
    "    return model"
   ]
  },
  {
   "cell_type": "code",
   "execution_count": 135,
   "id": "Jgp2mDrpUzj2",
   "metadata": {
    "colab": {
     "base_uri": "https://localhost:8080/",
     "height": 977
    },
    "id": "Jgp2mDrpUzj2",
    "outputId": "2cf2d4ce-6c78-4e6a-f09c-1d240ec1c4c8"
   },
   "outputs": [
    {
     "name": "stdout",
     "output_type": "stream",
     "text": [
      "Epoch 1/20\n",
      "170/170 [==============================] - 3s 16ms/step - loss: 1.8795 - accuracy: 0.2650\n",
      "Epoch 2/20\n",
      "170/170 [==============================] - 3s 15ms/step - loss: 1.4005 - accuracy: 0.2629\n",
      "Epoch 3/20\n",
      "170/170 [==============================] - 3s 15ms/step - loss: 1.0596 - accuracy: 0.5362\n",
      "Epoch 4/20\n",
      "170/170 [==============================] - 3s 15ms/step - loss: 0.4128 - accuracy: 0.8491\n",
      "Epoch 5/20\n",
      "170/170 [==============================] - 3s 15ms/step - loss: 0.3189 - accuracy: 0.8785\n",
      "Epoch 6/20\n",
      "170/170 [==============================] - 3s 15ms/step - loss: 0.2852 - accuracy: 0.8797\n",
      "Epoch 7/20\n",
      "170/170 [==============================] - 3s 15ms/step - loss: 0.2874 - accuracy: 0.8797\n",
      "Epoch 8/20\n",
      "170/170 [==============================] - 3s 15ms/step - loss: 0.2578 - accuracy: 0.8853\n",
      "Epoch 9/20\n",
      "170/170 [==============================] - 3s 15ms/step - loss: 0.2500 - accuracy: 0.8879\n",
      "Epoch 10/20\n",
      "170/170 [==============================] - 3s 15ms/step - loss: 0.2498 - accuracy: 0.8862\n",
      "Epoch 11/20\n",
      "170/170 [==============================] - 3s 15ms/step - loss: 0.2492 - accuracy: 0.8874\n",
      "Epoch 12/20\n",
      "170/170 [==============================] - 3s 15ms/step - loss: 0.2487 - accuracy: 0.8918\n",
      "Epoch 13/20\n",
      "170/170 [==============================] - 3s 15ms/step - loss: 0.2423 - accuracy: 0.8938\n",
      "Epoch 14/20\n",
      "170/170 [==============================] - 3s 15ms/step - loss: 0.2371 - accuracy: 0.8929\n",
      "Epoch 15/20\n",
      "170/170 [==============================] - 3s 15ms/step - loss: 0.2315 - accuracy: 0.8959\n",
      "Epoch 16/20\n",
      "170/170 [==============================] - 3s 15ms/step - loss: 0.2305 - accuracy: 0.8935\n",
      "Epoch 17/20\n",
      "170/170 [==============================] - 3s 15ms/step - loss: 0.2347 - accuracy: 0.8941\n",
      "Epoch 18/20\n",
      "170/170 [==============================] - 3s 15ms/step - loss: 0.2323 - accuracy: 0.8971\n",
      "Epoch 19/20\n",
      "170/170 [==============================] - 3s 15ms/step - loss: 0.2340 - accuracy: 0.8947\n",
      "Epoch 20/20\n",
      "170/170 [==============================] - 3s 15ms/step - loss: 0.2333 - accuracy: 0.8974\n"
     ]
    },
    {
     "data": {
      "image/png": "[encoded data removed]",
      "text/plain": [
       "<Figure size 432x288 with 1 Axes>"
      ]
     },
     "metadata": {
      "needs_background": "light"
     },
     "output_type": "display_data"
    },
    {
     "data": {
      "text/plain": [
       "<keras.engine.sequential.Sequential at 0x7fa7a3eb6090>"
      ]
     },
     "execution_count": 135,
     "metadata": {},
     "output_type": "execute_result"
    }
   ],
   "source": [
    "train_and_plot_final(model_cnn2)"
   ]
  },
  {
   "cell_type": "code",
   "execution_count": 136,
   "id": "_e4IH8RQ366J",
   "metadata": {
    "colab": {
     "base_uri": "https://localhost:8080/"
    },
    "id": "_e4IH8RQ366J",
    "outputId": "3068ae04-6b37-454a-ab62-57d4d6d5260b"
   },
   "outputs": [
    {
     "name": "stdout",
     "output_type": "stream",
     "text": [
      "19/19 [==============================] - 0s 12ms/step - loss: 0.2830 - accuracy: 0.8967\n"
     ]
    },
    {
     "data": {
      "text/plain": [
       "[0.2829788625240326, 0.8966666460037231]"
      ]
     },
     "execution_count": 136,
     "metadata": {},
     "output_type": "execute_result"
    }
   ],
   "source": [
    "#evaluate the model on the test set\n",
    "model_cnn2.evaluate(X_test_2, y_test)"
   ]
  },
  {
   "cell_type": "code",
   "execution_count": 137,
   "id": "WM98t5tVVPa0",
   "metadata": {
    "id": "WM98t5tVVPa0"
   },
   "outputs": [],
   "source": [
    "model_cnn2.save(\"model_final.h5\")"
   ]
  }
 ],
 "metadata": {
  "accelerator": "GPU",
  "colab": {
   "collapsed_sections": [],
   "name": "assignment_2.ipynb",
   "provenance": []
  },
  "kernelspec": {
   "display_name": "Python 3 (ipykernel)",
   "language": "python",
   "name": "python3"
  },
  "language_info": {
   "codemirror_mode": {
    "name": "ipython",
    "version": 3
   },
   "file_extension": ".py",
   "mimetype": "text/x-python",
   "name": "python",
   "nbconvert_exporter": "python",
   "pygments_lexer": "ipython3",
   "version": "3.8.12"
  },
  "toc": {
   "base_numbering": 1,
   "nav_menu": {},
   "number_sections": true,
   "sideBar": true,
   "skip_h1_title": false,
   "title_cell": "Table of Contents",
   "title_sidebar": "Contents",
   "toc_cell": false,
   "toc_position": {},
   "toc_section_display": true,
   "toc_window_display": false
  },
  "varInspector": {
   "cols": {
    "lenName": 16,
    "lenType": 16,
    "lenVar": 40
   },
   "kernels_config": {
    "python": {
     "delete_cmd_postfix": "",
     "delete_cmd_prefix": "del ",
     "library": "var_list.py",
     "varRefreshCmd": "print(var_dic_list())"
    },
    "r": {
     "delete_cmd_postfix": ") ",
     "delete_cmd_prefix": "rm(",
     "library": "var_list.r",
     "varRefreshCmd": "cat(var_dic_list()) "
    }
   },
   "types_to_exclude": [
    "module",
    "function",
    "builtin_function_or_method",
    "instance",
    "_Feature"
   ],
   "window_display": false
  }
 },
 "nbformat": 4,
 "nbformat_minor": 5
}
